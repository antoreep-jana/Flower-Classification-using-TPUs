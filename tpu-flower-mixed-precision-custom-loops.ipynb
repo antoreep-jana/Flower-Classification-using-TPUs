{
 "cells": [
  {
   "cell_type": "markdown",
   "metadata": {
    "papermill": {
     "duration": 0.031359,
     "end_time": "2021-02-22T15:34:37.346691",
     "exception": false,
     "start_time": "2021-02-22T15:34:37.315332",
     "status": "completed"
    },
    "tags": []
   },
   "source": [
    "###### Version 2 Log -> \n",
    "\n",
    "1) Mixed Precision Added <br>\n",
    "2) Custom Model Training"
   ]
  },
  {
   "cell_type": "code",
   "execution_count": 1,
   "metadata": {
    "_cell_guid": "b1076dfc-b9ad-4769-8c92-a6c4dae69d19",
    "_uuid": "8f2839f25d086af736a60e9eeb907d3b93b6e0e5",
    "execution": {
     "iopub.execute_input": "2021-02-22T15:34:37.413916Z",
     "iopub.status.busy": "2021-02-22T15:34:37.413183Z",
     "iopub.status.idle": "2021-02-22T15:34:44.322307Z",
     "shell.execute_reply": "2021-02-22T15:34:44.321275Z"
    },
    "papermill": {
     "duration": 6.945596,
     "end_time": "2021-02-22T15:34:44.322507",
     "exception": false,
     "start_time": "2021-02-22T15:34:37.376911",
     "status": "completed"
    },
    "tags": []
   },
   "outputs": [
    {
     "name": "stdout",
     "output_type": "stream",
     "text": [
      "Tensorflow version: ->  2.4.1\n"
     ]
    }
   ],
   "source": [
    "# Necessary imports \n",
    "import math, re, os\n",
    "import tensorflow as tf \n",
    "import numpy as np\n",
    "from matplotlib import pyplot as plt \n",
    "from kaggle_datasets import KaggleDatasets \n",
    "from sklearn.metrics import f1_score, precision_score, recall_score, confusion_matrix\n",
    "print(\"Tensorflow version: -> \", tf.__version__)\n"
   ]
  },
  {
   "cell_type": "code",
   "execution_count": 2,
   "metadata": {
    "execution": {
     "iopub.execute_input": "2021-02-22T15:34:44.390891Z",
     "iopub.status.busy": "2021-02-22T15:34:44.389874Z",
     "iopub.status.idle": "2021-02-22T15:34:44.393354Z",
     "shell.execute_reply": "2021-02-22T15:34:44.392697Z"
    },
    "papermill": {
     "duration": 0.038714,
     "end_time": "2021-02-22T15:34:44.393501",
     "exception": false,
     "start_time": "2021-02-22T15:34:44.354787",
     "status": "completed"
    },
    "tags": []
   },
   "outputs": [],
   "source": [
    "AUTO = tf.data.experimental.AUTOTUNE"
   ]
  },
  {
   "cell_type": "code",
   "execution_count": null,
   "metadata": {
    "papermill": {
     "duration": 0.030176,
     "end_time": "2021-02-22T15:34:44.455287",
     "exception": false,
     "start_time": "2021-02-22T15:34:44.425111",
     "status": "completed"
    },
    "tags": []
   },
   "outputs": [],
   "source": []
  },
  {
   "cell_type": "code",
   "execution_count": 3,
   "metadata": {
    "execution": {
     "iopub.execute_input": "2021-02-22T15:34:44.527687Z",
     "iopub.status.busy": "2021-02-22T15:34:44.526976Z",
     "iopub.status.idle": "2021-02-22T15:34:51.338356Z",
     "shell.execute_reply": "2021-02-22T15:34:51.338895Z"
    },
    "papermill": {
     "duration": 6.853205,
     "end_time": "2021-02-22T15:34:51.339075",
     "exception": false,
     "start_time": "2021-02-22T15:34:44.485870",
     "status": "completed"
    },
    "tags": []
   },
   "outputs": [
    {
     "name": "stdout",
     "output_type": "stream",
     "text": [
      "Number of Accelerators :  8\n"
     ]
    }
   ],
   "source": [
    "try:\n",
    "    tpu = tf.distribute.cluster_resolver.TPUClusterResolver.connect()\n",
    "    \n",
    "    strategy = tf.distribute.TPUStrategy(tpu)\n",
    "except ValueError:\n",
    "    strategy = tf.distribute.MirroredStrategy()\n",
    "    \n",
    "\n",
    "print(\"Number of Accelerators : \", strategy.num_replicas_in_sync)"
   ]
  },
  {
   "cell_type": "code",
   "execution_count": 4,
   "metadata": {
    "execution": {
     "iopub.execute_input": "2021-02-22T15:34:51.404164Z",
     "iopub.status.busy": "2021-02-22T15:34:51.403512Z",
     "iopub.status.idle": "2021-02-22T15:34:51.776613Z",
     "shell.execute_reply": "2021-02-22T15:34:51.775911Z"
    },
    "papermill": {
     "duration": 0.406838,
     "end_time": "2021-02-22T15:34:51.776774",
     "exception": false,
     "start_time": "2021-02-22T15:34:51.369936",
     "status": "completed"
    },
    "tags": []
   },
   "outputs": [
    {
     "name": "stdout",
     "output_type": "stream",
     "text": [
      "gs://kds-a5f3e552ca1eca1651815443969650adf7d40a60f75bf16a583d954d\n"
     ]
    }
   ],
   "source": [
    "from kaggle_datasets import KaggleDatasets\n",
    "GCS_DS_PATH = KaggleDatasets().get_gcs_path('flower-classification-with-tpus')\n",
    "print(GCS_DS_PATH)"
   ]
  },
  {
   "cell_type": "markdown",
   "metadata": {
    "papermill": {
     "duration": 0.030864,
     "end_time": "2021-02-22T15:34:51.839127",
     "exception": false,
     "start_time": "2021-02-22T15:34:51.808263",
     "status": "completed"
    },
    "tags": []
   },
   "source": [
    "Configuration"
   ]
  },
  {
   "cell_type": "code",
   "execution_count": 5,
   "metadata": {
    "execution": {
     "iopub.execute_input": "2021-02-22T15:34:51.906981Z",
     "iopub.status.busy": "2021-02-22T15:34:51.906299Z",
     "iopub.status.idle": "2021-02-22T15:34:51.909555Z",
     "shell.execute_reply": "2021-02-22T15:34:51.908956Z"
    },
    "papermill": {
     "duration": 0.039309,
     "end_time": "2021-02-22T15:34:51.909701",
     "exception": false,
     "start_time": "2021-02-22T15:34:51.870392",
     "status": "completed"
    },
    "tags": []
   },
   "outputs": [],
   "source": [
    "IMAGE_SIZE = [331, 331]\n",
    "EPOCHS = 13 \n",
    "BATCH_SIZE = 16 * strategy.num_replicas_in_sync"
   ]
  },
  {
   "cell_type": "code",
   "execution_count": 6,
   "metadata": {
    "execution": {
     "iopub.execute_input": "2021-02-22T15:34:51.975778Z",
     "iopub.status.busy": "2021-02-22T15:34:51.975085Z",
     "iopub.status.idle": "2021-02-22T15:34:51.980483Z",
     "shell.execute_reply": "2021-02-22T15:34:51.979911Z"
    },
    "papermill": {
     "duration": 0.039634,
     "end_time": "2021-02-22T15:34:51.980630",
     "exception": false,
     "start_time": "2021-02-22T15:34:51.940996",
     "status": "completed"
    },
    "tags": []
   },
   "outputs": [],
   "source": [
    "# LR Scheduling\n",
    "\n",
    "# Learning rate schedule\n",
    "LR_START = 0.00001\n",
    "LR_MAX = 0.00004 * strategy.num_replicas_in_sync\n",
    "LR_MIN = 0.00001\n",
    "LR_RAMPUP_EPOCHS = 3\n",
    "LR_SUSTAIN_EPOCHS = 0\n",
    "LR_EXP_DECAY = .7"
   ]
  },
  {
   "cell_type": "code",
   "execution_count": 7,
   "metadata": {
    "execution": {
     "iopub.execute_input": "2021-02-22T15:34:52.051166Z",
     "iopub.status.busy": "2021-02-22T15:34:52.050444Z",
     "iopub.status.idle": "2021-02-22T15:34:52.054086Z",
     "shell.execute_reply": "2021-02-22T15:34:52.053476Z"
    },
    "papermill": {
     "duration": 0.041832,
     "end_time": "2021-02-22T15:34:52.054243",
     "exception": false,
     "start_time": "2021-02-22T15:34:52.012411",
     "status": "completed"
    },
    "tags": []
   },
   "outputs": [],
   "source": [
    "GCS_PATH_SELECT = {\n",
    "    192 : GCS_DS_PATH + '/tfrecords-jpeg-192x192',\n",
    "    224 : GCS_DS_PATH + '/tfrecords-jpeg-224x224',\n",
    "    331 : GCS_DS_PATH + '/tfrecords-jpeg-331x331',\n",
    "    512 : GCS_DS_PATH + '/tfrecords-jpeg-512x512'\n",
    "}"
   ]
  },
  {
   "cell_type": "code",
   "execution_count": 8,
   "metadata": {
    "execution": {
     "iopub.execute_input": "2021-02-22T15:34:52.121124Z",
     "iopub.status.busy": "2021-02-22T15:34:52.120465Z",
     "iopub.status.idle": "2021-02-22T15:34:52.123874Z",
     "shell.execute_reply": "2021-02-22T15:34:52.124362Z"
    },
    "papermill": {
     "duration": 0.038593,
     "end_time": "2021-02-22T15:34:52.124537",
     "exception": false,
     "start_time": "2021-02-22T15:34:52.085944",
     "status": "completed"
    },
    "tags": []
   },
   "outputs": [],
   "source": [
    "GCS_PATH = GCS_PATH_SELECT[IMAGE_SIZE[0]]"
   ]
  },
  {
   "cell_type": "code",
   "execution_count": 9,
   "metadata": {
    "execution": {
     "iopub.execute_input": "2021-02-22T15:34:52.192119Z",
     "iopub.status.busy": "2021-02-22T15:34:52.191433Z",
     "iopub.status.idle": "2021-02-22T15:34:52.423878Z",
     "shell.execute_reply": "2021-02-22T15:34:52.423288Z"
    },
    "papermill": {
     "duration": 0.267389,
     "end_time": "2021-02-22T15:34:52.424035",
     "exception": false,
     "start_time": "2021-02-22T15:34:52.156646",
     "status": "completed"
    },
    "tags": []
   },
   "outputs": [],
   "source": [
    "TRAINING_FILENAMES = tf.io.gfile.glob(GCS_PATH + '/train/*.tfrec')\n",
    "VALIDATION_FILENAMES = tf.io.gfile.glob(GCS_PATH + '/val/*.tfrec')\n",
    "TEST_FILENAMES = tf.io.gfile.glob(GCS_PATH + '/test/*.tfrec')"
   ]
  },
  {
   "cell_type": "code",
   "execution_count": 10,
   "metadata": {
    "execution": {
     "iopub.execute_input": "2021-02-22T15:34:52.498042Z",
     "iopub.status.busy": "2021-02-22T15:34:52.497354Z",
     "iopub.status.idle": "2021-02-22T15:34:52.500113Z",
     "shell.execute_reply": "2021-02-22T15:34:52.500589Z"
    },
    "papermill": {
     "duration": 0.044491,
     "end_time": "2021-02-22T15:34:52.500768",
     "exception": false,
     "start_time": "2021-02-22T15:34:52.456277",
     "status": "completed"
    },
    "tags": []
   },
   "outputs": [],
   "source": [
    "CLASSES = ['pink primrose',    'hard-leaved pocket orchid', 'canterbury bells', 'sweet pea',     'wild geranium',     'tiger lily',           'moon orchid',              'bird of paradise', 'monkshood',        'globe thistle',         # 00 - 09\n",
    "           'snapdragon',       \"colt's foot\",               'king protea',      'spear thistle', 'yellow iris',       'globe-flower',         'purple coneflower',        'peruvian lily',    'balloon flower',   'giant white arum lily', # 10 - 19\n",
    "           'fire lily',        'pincushion flower',         'fritillary',       'red ginger',    'grape hyacinth',    'corn poppy',           'prince of wales feathers', 'stemless gentian', 'artichoke',        'sweet william',         # 20 - 29\n",
    "           'carnation',        'garden phlox',              'love in the mist', 'cosmos',        'alpine sea holly',  'ruby-lipped cattleya', 'cape flower',              'great masterwort', 'siam tulip',       'lenten rose',           # 30 - 39\n",
    "           'barberton daisy',  'daffodil',                  'sword lily',       'poinsettia',    'bolero deep blue',  'wallflower',           'marigold',                 'buttercup',        'daisy',            'common dandelion',      # 40 - 49\n",
    "           'petunia',          'wild pansy',                'primula',          'sunflower',     'lilac hibiscus',    'bishop of llandaff',   'gaura',                    'geranium',         'orange dahlia',    'pink-yellow dahlia',    # 50 - 59\n",
    "           'cautleya spicata', 'japanese anemone',          'black-eyed susan', 'silverbush',    'californian poppy', 'osteospermum',         'spring crocus',            'iris',             'windflower',       'tree poppy',            # 60 - 69\n",
    "           'gazania',          'azalea',                    'water lily',       'rose',          'thorn apple',       'morning glory',        'passion flower',           'lotus',            'toad lily',        'anthurium',             # 70 - 79\n",
    "           'frangipani',       'clematis',                  'hibiscus',         'columbine',     'desert-rose',       'tree mallow',          'magnolia',                 'cyclamen ',        'watercress',       'canna lily',            # 80 - 89\n",
    "           'hippeastrum ',     'bee balm',                  'pink quill',       'foxglove',      'bougainvillea',     'camellia',             'mallow',                   'mexican petunia',  'bromelia',         'blanket flower',        # 90 - 99\n",
    "           'trumpet creeper',  'blackberry lily',           'common tulip',     'wild rose']                                                                                                                                               # 100 - 102"
   ]
  },
  {
   "cell_type": "code",
   "execution_count": 11,
   "metadata": {
    "execution": {
     "iopub.execute_input": "2021-02-22T15:34:52.606040Z",
     "iopub.status.busy": "2021-02-22T15:34:52.600676Z",
     "iopub.status.idle": "2021-02-22T15:34:53.000863Z",
     "shell.execute_reply": "2021-02-22T15:34:53.000171Z"
    },
    "papermill": {
     "duration": 0.465796,
     "end_time": "2021-02-22T15:34:53.001018",
     "exception": false,
     "start_time": "2021-02-22T15:34:52.535222",
     "status": "completed"
    },
    "tags": []
   },
   "outputs": [
    {
     "name": "stdout",
     "output_type": "stream",
     "text": [
      "Learning rate schedule: 1e-05 to 0.00032 to 2.25e-05\n"
     ]
    },
    {
     "data": {
      "image/png": "[encoded data removed]",
      "text/plain": [
       "<Figure size 432x288 with 1 Axes>"
      ]
     },
     "metadata": {
      "needs_background": "light"
     },
     "output_type": "display_data"
    }
   ],
   "source": [
    "@tf.function\n",
    "def lrfn(epoch):\n",
    "    if float(epoch) < LR_RAMPUP_EPOCHS:\n",
    "        lr = (LR_MAX - LR_START) / LR_RAMPUP_EPOCHS * float(epoch) + LR_START\n",
    "    elif float(epoch) < LR_RAMPUP_EPOCHS + LR_SUSTAIN_EPOCHS:\n",
    "        lr = LR_MAX\n",
    "    else:\n",
    "        lr = (LR_MAX - LR_MIN) * LR_EXP_DECAY**(float(epoch) - LR_RAMPUP_EPOCHS - LR_SUSTAIN_EPOCHS) + LR_MIN\n",
    "    return lr\n",
    "    \n",
    "lr_callback = tf.keras.callbacks.LearningRateScheduler(lrfn, verbose=True)\n",
    "\n",
    "rng = [i for i in range(EPOCHS)]\n",
    "y = [lrfn(x) for x in rng]\n",
    "plt.plot(rng, y)\n",
    "print(\"Learning rate schedule: {:.3g} to {:.3g} to {:.3g}\".format(y[0], max(y), y[-1]))"
   ]
  },
  {
   "cell_type": "markdown",
   "metadata": {
    "papermill": {
     "duration": 0.033309,
     "end_time": "2021-02-22T15:34:53.071350",
     "exception": false,
     "start_time": "2021-02-22T15:34:53.038041",
     "status": "completed"
    },
    "tags": []
   },
   "source": [
    "#### Datasets"
   ]
  },
  {
   "cell_type": "code",
   "execution_count": 12,
   "metadata": {
    "execution": {
     "iopub.execute_input": "2021-02-22T15:34:53.154206Z",
     "iopub.status.busy": "2021-02-22T15:34:53.148608Z",
     "iopub.status.idle": "2021-02-22T15:34:53.165210Z",
     "shell.execute_reply": "2021-02-22T15:34:53.165785Z"
    },
    "papermill": {
     "duration": 0.060668,
     "end_time": "2021-02-22T15:34:53.165995",
     "exception": false,
     "start_time": "2021-02-22T15:34:53.105327",
     "status": "completed"
    },
    "tags": []
   },
   "outputs": [
    {
     "name": "stdout",
     "output_type": "stream",
     "text": [
      "Dataset : 12753 training images, 3712 validation images, 7382 unlabeled test images\n"
     ]
    }
   ],
   "source": [
    "def decode_image(image_data):\n",
    "    image = tf.image.decode_jpeg(image_data, channels = 3)\n",
    "    image = tf.reshape(image, [*IMAGE_SIZE, 3])\n",
    "    return image\n",
    "\n",
    "\n",
    "def read_labeled_tfrecord(example):\n",
    "    \n",
    "    LABELED_TFREC_FORMAT = {\n",
    "        \"image\" : tf.io.FixedLenFeature([], tf.string),\n",
    "        \"class\" : tf.io.FixedLenFeature([], tf.int64)\n",
    "    }\n",
    "    \n",
    "    example = tf.io.parse_single_example(example, LABELED_TFREC_FORMAT)\n",
    "    image = decode_image(example['image'])\n",
    "    label = tf.cast(example['class'], tf.int32)\n",
    "    \n",
    "    return image, label\n",
    "\n",
    "\n",
    "def read_unlabeled_tfrecord(example):\n",
    "    UNLABELED_TFREC_FORMAT = {\n",
    "        \"image\" : tf.io.FixedLenFeature([], tf.string),\n",
    "        \"id\" : tf.io.FixedLenFeature([], tf.string)\n",
    "    }\n",
    "    \n",
    "    example = tf.io.parse_single_example(example, UNLABELED_TFREC_FORMAT)\n",
    "    image = decode_image(example['image'])\n",
    "    idnum = example['id']\n",
    "    return image, idnum\n",
    "\n",
    "\n",
    "def load_dataset(filenames, labeled = True, ordered = False):\n",
    "    ignore_order = tf.data.Options()\n",
    "    \n",
    "    if not ordered:\n",
    "        ignore_order.experimental_deterministic = False\n",
    "        \n",
    "    dataset = tf.data.TFRecordDataset(filenames, num_parallel_reads = AUTO)\n",
    "    \n",
    "    dataset = dataset.with_options(ignore_order)\n",
    "    dataset = dataset.map(read_labeled_tfrecord if labeled else read_unlabeled_tfrecord, num_parallel_calls = AUTO)\n",
    "    \n",
    "    return dataset\n",
    "\n",
    "def data_augment(image, label):\n",
    "    image = tf.image.random_flip_left_right(image)\n",
    "    return image, label\n",
    "\n",
    "\n",
    "def get_training_dataset():\n",
    "    dataset = load_dataset(TRAINING_FILENAMES, labeled = True)\n",
    "    dataset = dataset.map(data_augment, num_parallel_calls = AUTO)\n",
    "    dataset = dataset.repeat()\n",
    "    \n",
    "    \n",
    "    dataset = dataset.shuffle(2048)\n",
    "    dataset = dataset.batch(BATCH_SIZE)\n",
    "    dataset = dataset.prefetch(AUTO)\n",
    "    \n",
    "    \n",
    "    return dataset\n",
    "\n",
    "\n",
    "\n",
    "def get_validation_dataset(ordered = False, repeated = False):\n",
    "    dataset = load_dataset(VALIDATION_FILENAMES, labeled = True, ordered = ordered)\n",
    "    if repeated:\n",
    "        dataset = dataset.repeat()\n",
    "        dataset = dataset.shuffle(2048)\n",
    "    dataset = dataset.batch(BATCH_SIZE)\n",
    "    dataset = dataset.cache()\n",
    "    dataset = dataset.prefetch(AUTO)\n",
    "    \n",
    "    return dataset\n",
    "\n",
    "\n",
    "def get_test_dataset(ordered = False):\n",
    "    dataset = load_dataset(TEST_FILENAMES, labeled = False, ordered = ordered)\n",
    "    dataset = dataset.batch(BATCH_SIZE)\n",
    "    dataset = dataset.prefetch(AUTO)\n",
    "    \n",
    "    return dataset\n",
    "\n",
    "\n",
    "def count_data_items(filenames):\n",
    "    n = [int(re.compile(r\"-([0-9]*)\\.\").search(filename).group(1)) for filename in filenames]\n",
    "    return np.sum(n)\n",
    "\n",
    "\n",
    "def int_div_round_up(a, b):\n",
    "    return (a + b - 1) // b\n",
    "\n",
    "\n",
    "NUM_TRAINING_IMAGES = count_data_items(TRAINING_FILENAMES)\n",
    "NUM_VALIDATION_IMAGES = count_data_items(VALIDATION_FILENAMES)\n",
    "NUM_TEST_IMAGES = count_data_items(TEST_FILENAMES)\n",
    "\n",
    "STEPS_PER_EPOCH = NUM_TRAINING_IMAGES // BATCH_SIZE\n",
    "#VALIDATION_STEPS = -(-NUM_VALIDATION_IMAGES // BATCH_SIZE)\n",
    "VALIDATION_STEPS = int_div_round_up(NUM_VALIDATION_IMAGES, BATCH_SIZE)\n",
    "\n",
    "#TEST_STEPS = -(-NUM_TEST_IMAGES // BATCH_SIZE)\n",
    "TEST_STEPS = int_div_round_up(NUM_TEST_IMAGES, BATCH_SIZE)\n",
    "\n",
    "print(\"Dataset : {} training images, {} validation images, {} unlabeled test images\".format(NUM_TRAINING_IMAGES, NUM_VALIDATION_IMAGES, NUM_TEST_IMAGES))"
   ]
  },
  {
   "cell_type": "markdown",
   "metadata": {
    "papermill": {
     "duration": 0.035343,
     "end_time": "2021-02-22T15:34:53.237209",
     "exception": false,
     "start_time": "2021-02-22T15:34:53.201866",
     "status": "completed"
    },
    "tags": []
   },
   "source": [
    "#### Model Training"
   ]
  },
  {
   "cell_type": "code",
   "execution_count": 13,
   "metadata": {
    "execution": {
     "iopub.execute_input": "2021-02-22T15:34:53.309249Z",
     "iopub.status.busy": "2021-02-22T15:34:53.308423Z",
     "iopub.status.idle": "2021-02-22T15:35:49.357892Z",
     "shell.execute_reply": "2021-02-22T15:35:49.358523Z"
    },
    "papermill": {
     "duration": 56.086827,
     "end_time": "2021-02-22T15:35:49.358723",
     "exception": false,
     "start_time": "2021-02-22T15:34:53.271896",
     "status": "completed"
    },
    "tags": []
   },
   "outputs": [
    {
     "name": "stdout",
     "output_type": "stream",
     "text": [
      "Downloading data from https://storage.googleapis.com/tensorflow/keras-applications/nasnet/NASNet-large-no-top.h5\n",
      "343613440/343610240 [==============================] - 3s 0us/step\n",
      "Model: \"sequential\"\n",
      "_________________________________________________________________\n",
      "Layer (type)                 Output Shape              Param #   \n",
      "=================================================================\n",
      "lambda (Lambda)              (None, 331, 331, 3)       0         \n",
      "_________________________________________________________________\n",
      "NASNet (Functional)          (None, 11, 11, 4032)      84916818  \n",
      "_________________________________________________________________\n",
      "global_average_pooling2d (Gl (None, 4032)              0         \n",
      "_________________________________________________________________\n",
      "dense (Dense)                (None, 104)               419432    \n",
      "=================================================================\n",
      "Total params: 85,336,250\n",
      "Trainable params: 85,139,582\n",
      "Non-trainable params: 196,668\n",
      "_________________________________________________________________\n"
     ]
    }
   ],
   "source": [
    "with strategy.scope():\n",
    "    pretrained_model = tf.keras.applications.NASNetLarge(weights = 'imagenet', include_top = False)\n",
    "    \n",
    "    \n",
    "    \n",
    "    model = tf.keras.Sequential([\n",
    "        # convert image format from int [0,255] to the format expected by this model\n",
    "        tf.keras.layers.Lambda(lambda data: tf.keras.applications.nasnet.preprocess_input(tf.cast(data, tf.float32)), input_shape=[*IMAGE_SIZE, 3]),\n",
    "        pretrained_model,\n",
    "        # models in tf.keras.applications with include_top=False output a 3D feature map which must be converted to 2D\n",
    "        tf.keras.layers.GlobalAveragePooling2D(),\n",
    "        tf.keras.layers.Dense(len(CLASSES), activation='softmax')\n",
    "    ])\n",
    "    \n",
    "    model.compile(optimizer = 'adam', loss = 'sparse_categorical_crossentropy', metrics = ['sparse_categorical_accuracy'], steps_per_execution = 16)\n",
    "    \n",
    "model.summary()"
   ]
  },
  {
   "cell_type": "markdown",
   "metadata": {
    "papermill": {
     "duration": 0.049312,
     "end_time": "2021-02-22T15:35:49.457864",
     "exception": false,
     "start_time": "2021-02-22T15:35:49.408552",
     "status": "completed"
    },
    "tags": []
   },
   "source": [
    "### Model Training"
   ]
  },
  {
   "cell_type": "code",
   "execution_count": 14,
   "metadata": {
    "execution": {
     "iopub.execute_input": "2021-02-22T15:35:49.562033Z",
     "iopub.status.busy": "2021-02-22T15:35:49.561302Z",
     "iopub.status.idle": "2021-02-22T15:52:21.316051Z",
     "shell.execute_reply": "2021-02-22T15:52:21.314751Z"
    },
    "papermill": {
     "duration": 991.808508,
     "end_time": "2021-02-22T15:52:21.316284",
     "exception": false,
     "start_time": "2021-02-22T15:35:49.507776",
     "status": "completed"
    },
    "tags": []
   },
   "outputs": [
    {
     "name": "stdout",
     "output_type": "stream",
     "text": [
      "Epoch 1/13\n",
      "\n",
      "Epoch 00001: LearningRateScheduler reducing learning rate to tf.Tensor(1e-05, shape=(), dtype=float32).\n",
      "99/99 [==============================] - 482s 5s/step - loss: 4.3805 - sparse_categorical_accuracy: 0.1119 - val_loss: 3.7531 - val_sparse_categorical_accuracy: 0.2594\n",
      "Epoch 2/13\n",
      "\n",
      "Epoch 00002: LearningRateScheduler reducing learning rate to tf.Tensor(0.000113333335, shape=(), dtype=float32).\n",
      "99/99 [==============================] - 42s 428ms/step - loss: 1.7567 - sparse_categorical_accuracy: 0.6096 - val_loss: 1.3810 - val_sparse_categorical_accuracy: 0.6695\n",
      "Epoch 3/13\n",
      "\n",
      "Epoch 00003: LearningRateScheduler reducing learning rate to tf.Tensor(0.00021666667, shape=(), dtype=float32).\n",
      "99/99 [==============================] - 42s 428ms/step - loss: 0.3372 - sparse_categorical_accuracy: 0.9116 - val_loss: 0.8771 - val_sparse_categorical_accuracy: 0.7885\n",
      "Epoch 4/13\n",
      "\n",
      "Epoch 00004: LearningRateScheduler reducing learning rate to tf.Tensor(0.00032, shape=(), dtype=float32).\n",
      "99/99 [==============================] - 42s 428ms/step - loss: 0.2025 - sparse_categorical_accuracy: 0.9456 - val_loss: 1.2789 - val_sparse_categorical_accuracy: 0.7322\n",
      "Epoch 5/13\n",
      "\n",
      "Epoch 00005: LearningRateScheduler reducing learning rate to tf.Tensor(0.000227, shape=(), dtype=float32).\n",
      "99/99 [==============================] - 42s 428ms/step - loss: 0.1334 - sparse_categorical_accuracy: 0.9628 - val_loss: 1.0519 - val_sparse_categorical_accuracy: 0.7697\n",
      "Epoch 6/13\n",
      "\n",
      "Epoch 00006: LearningRateScheduler reducing learning rate to tf.Tensor(0.0001619, shape=(), dtype=float32).\n",
      "99/99 [==============================] - 42s 428ms/step - loss: 0.0375 - sparse_categorical_accuracy: 0.9893 - val_loss: 0.7152 - val_sparse_categorical_accuracy: 0.8370\n",
      "Epoch 7/13\n",
      "\n",
      "Epoch 00007: LearningRateScheduler reducing learning rate to tf.Tensor(0.00011633, shape=(), dtype=float32).\n",
      "99/99 [==============================] - 42s 428ms/step - loss: 0.0160 - sparse_categorical_accuracy: 0.9952 - val_loss: 0.6906 - val_sparse_categorical_accuracy: 0.8435\n",
      "Epoch 8/13\n",
      "\n",
      "Epoch 00008: LearningRateScheduler reducing learning rate to tf.Tensor(8.4431e-05, shape=(), dtype=float32).\n",
      "99/99 [==============================] - 42s 428ms/step - loss: 0.0042 - sparse_categorical_accuracy: 0.9996 - val_loss: 0.5916 - val_sparse_categorical_accuracy: 0.8669\n",
      "Epoch 9/13\n",
      "\n",
      "Epoch 00009: LearningRateScheduler reducing learning rate to tf.Tensor(6.21017e-05, shape=(), dtype=float32).\n",
      "99/99 [==============================] - 42s 428ms/step - loss: 0.0036 - sparse_categorical_accuracy: 0.9994 - val_loss: 0.5652 - val_sparse_categorical_accuracy: 0.8750\n",
      "Epoch 10/13\n",
      "\n",
      "Epoch 00010: LearningRateScheduler reducing learning rate to tf.Tensor(4.647119e-05, shape=(), dtype=float32).\n",
      "99/99 [==============================] - 42s 427ms/step - loss: 0.0023 - sparse_categorical_accuracy: 0.9996 - val_loss: 0.5262 - val_sparse_categorical_accuracy: 0.8820\n",
      "Epoch 11/13\n",
      "\n",
      "Epoch 00011: LearningRateScheduler reducing learning rate to tf.Tensor(3.5529833e-05, shape=(), dtype=float32).\n",
      "99/99 [==============================] - 42s 427ms/step - loss: 0.0022 - sparse_categorical_accuracy: 0.9996 - val_loss: 0.4936 - val_sparse_categorical_accuracy: 0.8906\n",
      "Epoch 12/13\n",
      "\n",
      "Epoch 00012: LearningRateScheduler reducing learning rate to tf.Tensor(2.7870883e-05, shape=(), dtype=float32).\n",
      "99/99 [==============================] - 42s 427ms/step - loss: 0.0017 - sparse_categorical_accuracy: 0.9996 - val_loss: 0.4716 - val_sparse_categorical_accuracy: 0.9011\n",
      "Epoch 13/13\n",
      "\n",
      "Epoch 00013: LearningRateScheduler reducing learning rate to tf.Tensor(2.2509617e-05, shape=(), dtype=float32).\n",
      "99/99 [==============================] - 42s 428ms/step - loss: 0.0014 - sparse_categorical_accuracy: 0.9998 - val_loss: 0.4607 - val_sparse_categorical_accuracy: 0.9022\n"
     ]
    }
   ],
   "source": [
    "history = model.fit(get_training_dataset(), steps_per_epoch = STEPS_PER_EPOCH, epochs = EPOCHS, validation_data = get_validation_dataset(), validation_steps = VALIDATION_STEPS, callbacks = [lr_callback])"
   ]
  },
  {
   "cell_type": "code",
   "execution_count": null,
   "metadata": {
    "papermill": {
     "duration": 0.085006,
     "end_time": "2021-02-22T15:52:21.494461",
     "exception": false,
     "start_time": "2021-02-22T15:52:21.409455",
     "status": "completed"
    },
    "tags": []
   },
   "outputs": [],
   "source": []
  },
  {
   "cell_type": "markdown",
   "metadata": {
    "papermill": {
     "duration": 0.085786,
     "end_time": "2021-02-22T15:52:21.666858",
     "exception": false,
     "start_time": "2021-02-22T15:52:21.581072",
     "status": "completed"
    },
    "tags": []
   },
   "source": [
    "#### Model Custom Training Loop (Coming soon)"
   ]
  },
  {
   "cell_type": "code",
   "execution_count": 15,
   "metadata": {
    "execution": {
     "iopub.execute_input": "2021-02-22T15:52:21.846061Z",
     "iopub.status.busy": "2021-02-22T15:52:21.845362Z",
     "iopub.status.idle": "2021-02-22T15:52:31.721431Z",
     "shell.execute_reply": "2021-02-22T15:52:31.720773Z"
    },
    "papermill": {
     "duration": 9.969525,
     "end_time": "2021-02-22T15:52:31.721579",
     "exception": false,
     "start_time": "2021-02-22T15:52:21.752054",
     "status": "completed"
    },
    "tags": []
   },
   "outputs": [
    {
     "name": "stdout",
     "output_type": "stream",
     "text": [
      "Downloading data from https://storage.googleapis.com/tensorflow/keras-applications/xception/xception_weights_tf_dim_ordering_tf_kernels_notop.h5\n",
      "83689472/83683744 [==============================] - 1s 0us/step\n",
      "Model: \"sequential_1\"\n",
      "_________________________________________________________________\n",
      "Layer (type)                 Output Shape              Param #   \n",
      "=================================================================\n",
      "lambda_1 (Lambda)            (None, 331, 331, 3)       0         \n",
      "_________________________________________________________________\n",
      "xception (Functional)        (None, 11, 11, 2048)      20861480  \n",
      "_________________________________________________________________\n",
      "global_average_pooling2d_1 ( (None, 2048)              0         \n",
      "_________________________________________________________________\n",
      "dense_1 (Dense)              (None, 104)               213096    \n",
      "=================================================================\n",
      "Total params: 21,074,576\n",
      "Trainable params: 21,020,048\n",
      "Non-trainable params: 54,528\n",
      "_________________________________________________________________\n"
     ]
    }
   ],
   "source": [
    "with strategy.scope():\n",
    "    pretrained_model = tf.keras.applications.Xception(weights = 'imagenet', include_top = False, input_shape = [*IMAGE_SIZE, 3])\n",
    "    \n",
    "    pretrained_model.trainable = True\n",
    "    \n",
    "    model = tf.keras.Sequential([\n",
    "        tf.keras.layers.Lambda(lambda data: tf.keras.applications.xception.preprocess_input(tf.cast(data, tf.float32)), input_shape = [*IMAGE_SIZE, 3]),\n",
    "        pretrained_model,\n",
    "        tf.keras.layers.GlobalAveragePooling2D(),\n",
    "        tf.keras.layers.Dense(len(CLASSES), activation = 'softmax')\n",
    "        \n",
    "    ])\n",
    "    \n",
    "    model.summary()\n",
    "    \n",
    "    \n",
    "    class LRSchedule(tf.keras.optimizers.schedules.LearningRateSchedule):\n",
    "        def __call__(self, step):\n",
    "            return lrfn(epoch = step // STEPS_PER_EPOCH)\n",
    "        \n",
    "    optimizer = tf.keras.optimizers.Adam(learning_rate = LRSchedule())\n",
    "    \n",
    "    train_accuracy = tf.keras.metrics.SparseCategoricalAccuracy()\n",
    "    valid_accuracy = tf.keras.metrics.SparseCategoricalAccuracy()\n",
    "    \n",
    "    train_loss = tf.keras.metrics.Sum()\n",
    "    valid_loss = tf.keras.metrics.Sum()\n",
    "    \n",
    "    loss_fn = lambda a,b : tf.nn.compute_average_loss(tf.keras.losses.sparse_categorical_crossentropy(a,b), global_batch_size = BATCH_SIZE)\n",
    "    "
   ]
  },
  {
   "cell_type": "code",
   "execution_count": 16,
   "metadata": {
    "execution": {
     "iopub.execute_input": "2021-02-22T15:52:31.915485Z",
     "iopub.status.busy": "2021-02-22T15:52:31.914695Z",
     "iopub.status.idle": "2021-02-22T15:52:31.918587Z",
     "shell.execute_reply": "2021-02-22T15:52:31.917788Z"
    },
    "papermill": {
     "duration": 0.104413,
     "end_time": "2021-02-22T15:52:31.918737",
     "exception": false,
     "start_time": "2021-02-22T15:52:31.814324",
     "status": "completed"
    },
    "tags": []
   },
   "outputs": [],
   "source": [
    "@tf.function \n",
    "def train_step(images, labels):\n",
    "    with tf.GradientTape() as tape:\n",
    "        probabilities = model(images, training = True)\n",
    "        loss = loss_fn(labels, probabilities)\n",
    "    grads = tape.gradient(loss, model.trainable_variables)\n",
    "    optimizer.apply_gradients(zip(grads, model.trainable_variables))\n",
    "    \n",
    "    train_accuracy.update_state(labels, probabilities)\n",
    "    train_loss.update_state(loss)\n",
    "    \n",
    "\n",
    "@tf.function\n",
    "def valid_step(images, labels):\n",
    "    probabilities = model(images, training = False)\n",
    "    loss = loss_fn(labels, probabilities)\n",
    "    \n",
    "    # update metrics\n",
    "    valid_accuracy.update_state(labels, probabilities)\n",
    "    valid_loss.update_state(loss)\n",
    "    \n",
    "    \n"
   ]
  },
  {
   "cell_type": "markdown",
   "metadata": {
    "papermill": {
     "duration": 0.092445,
     "end_time": "2021-02-22T15:52:32.105330",
     "exception": false,
     "start_time": "2021-02-22T15:52:32.012885",
     "status": "completed"
    },
    "tags": []
   },
   "source": [
    "#### Training Loop"
   ]
  },
  {
   "cell_type": "code",
   "execution_count": 17,
   "metadata": {
    "execution": {
     "iopub.execute_input": "2021-02-22T15:52:32.296327Z",
     "iopub.status.busy": "2021-02-22T15:52:32.295371Z",
     "iopub.status.idle": "2021-02-22T15:52:32.298455Z",
     "shell.execute_reply": "2021-02-22T15:52:32.297828Z"
    },
    "papermill": {
     "duration": 0.100038,
     "end_time": "2021-02-22T15:52:32.298594",
     "exception": false,
     "start_time": "2021-02-22T15:52:32.198556",
     "status": "completed"
    },
    "tags": []
   },
   "outputs": [],
   "source": [
    "import time"
   ]
  },
  {
   "cell_type": "code",
   "execution_count": 18,
   "metadata": {
    "execution": {
     "iopub.execute_input": "2021-02-22T15:52:32.486304Z",
     "iopub.status.busy": "2021-02-22T15:52:32.485512Z",
     "iopub.status.idle": "2021-02-22T15:52:32.489961Z",
     "shell.execute_reply": "2021-02-22T15:52:32.489315Z"
    },
    "papermill": {
     "duration": 0.099946,
     "end_time": "2021-02-22T15:52:32.490100",
     "exception": false,
     "start_time": "2021-02-22T15:52:32.390154",
     "status": "completed"
    },
    "tags": []
   },
   "outputs": [],
   "source": [
    "start_time = epoch_start_time = time.time()"
   ]
  },
  {
   "cell_type": "code",
   "execution_count": null,
   "metadata": {
    "papermill": {
     "duration": 0.092617,
     "end_time": "2021-02-22T15:52:32.675329",
     "exception": false,
     "start_time": "2021-02-22T15:52:32.582712",
     "status": "completed"
    },
    "tags": []
   },
   "outputs": [],
   "source": []
  },
  {
   "cell_type": "code",
   "execution_count": 19,
   "metadata": {
    "execution": {
     "iopub.execute_input": "2021-02-22T15:52:32.866165Z",
     "iopub.status.busy": "2021-02-22T15:52:32.865198Z",
     "iopub.status.idle": "2021-02-22T15:52:32.964843Z",
     "shell.execute_reply": "2021-02-22T15:52:32.964265Z"
    },
    "papermill": {
     "duration": 0.197906,
     "end_time": "2021-02-22T15:52:32.964991",
     "exception": false,
     "start_time": "2021-02-22T15:52:32.767085",
     "status": "completed"
    },
    "tags": []
   },
   "outputs": [
    {
     "name": "stdout",
     "output_type": "stream",
     "text": [
      "Steps per epoch:  99\n"
     ]
    }
   ],
   "source": [
    "train_dist_ds = strategy.experimental_distribute_dataset(get_training_dataset())\n",
    "\n",
    "valid_dist_ds = strategy.experimental_distribute_dataset(get_validation_dataset())\n",
    "\n",
    "print(\"Steps per epoch: \", STEPS_PER_EPOCH)\n"
   ]
  },
  {
   "cell_type": "code",
   "execution_count": 20,
   "metadata": {
    "execution": {
     "iopub.execute_input": "2021-02-22T15:52:33.156842Z",
     "iopub.status.busy": "2021-02-22T15:52:33.156110Z",
     "iopub.status.idle": "2021-02-22T15:52:33.161430Z",
     "shell.execute_reply": "2021-02-22T15:52:33.160857Z"
    },
    "papermill": {
     "duration": 0.103539,
     "end_time": "2021-02-22T15:52:33.161597",
     "exception": false,
     "start_time": "2021-02-22T15:52:33.058058",
     "status": "completed"
    },
    "tags": []
   },
   "outputs": [],
   "source": [
    "from collections import namedtuple\n",
    "History = namedtuple('History', 'history')\n"
   ]
  },
  {
   "cell_type": "code",
   "execution_count": 21,
   "metadata": {
    "execution": {
     "iopub.execute_input": "2021-02-22T15:52:33.363394Z",
     "iopub.status.busy": "2021-02-22T15:52:33.361958Z",
     "iopub.status.idle": "2021-02-22T15:53:39.184791Z",
     "shell.execute_reply": "2021-02-22T15:53:39.184078Z"
    },
    "papermill": {
     "duration": 65.929915,
     "end_time": "2021-02-22T15:53:39.184968",
     "exception": false,
     "start_time": "2021-02-22T15:52:33.255053",
     "status": "completed"
    },
    "tags": []
   },
   "outputs": [
    {
     "name": "stdout",
     "output_type": "stream",
     "text": [
      "===================================================================================================|=============================\n",
      "EPOCH 1/13\n",
      "time : 1.0s\n"
     ]
    },
    {
     "ename": "IndexError",
     "evalue": "list index out of range",
     "output_type": "error",
     "traceback": [
      "\u001b[0;31m---------------------------------------------------------------------------\u001b[0m",
      "\u001b[0;31mIndexError\u001b[0m                                Traceback (most recent call last)",
      "\u001b[0;32m<ipython-input-21-1e1b2eb8bddd>\u001b[0m in \u001b[0;36m<module>\u001b[0;34m\u001b[0m\n\u001b[1;32m     22\u001b[0m         \u001b[0mprint\u001b[0m\u001b[0;34m(\u001b[0m\u001b[0;34m\"\\nEPOCH {:d}/{:d}\"\u001b[0m\u001b[0;34m.\u001b[0m\u001b[0mformat\u001b[0m\u001b[0;34m(\u001b[0m\u001b[0mepoch\u001b[0m \u001b[0;34m+\u001b[0m \u001b[0;36m1\u001b[0m\u001b[0;34m,\u001b[0m \u001b[0mEPOCHS\u001b[0m\u001b[0;34m)\u001b[0m\u001b[0;34m)\u001b[0m\u001b[0;34m\u001b[0m\u001b[0;34m\u001b[0m\u001b[0m\n\u001b[1;32m     23\u001b[0m         \u001b[0mprint\u001b[0m\u001b[0;34m(\u001b[0m\u001b[0;34m\"time : {:0.1f}s\"\u001b[0m\u001b[0;34m.\u001b[0m\u001b[0mformat\u001b[0m\u001b[0;34m(\u001b[0m\u001b[0mepoch\u001b[0m \u001b[0;34m+\u001b[0m \u001b[0;36m1\u001b[0m\u001b[0;34m,\u001b[0m \u001b[0mEPOCHS\u001b[0m\u001b[0;34m)\u001b[0m\u001b[0;34m)\u001b[0m\u001b[0;34m\u001b[0m\u001b[0;34m\u001b[0m\u001b[0m\n\u001b[0;32m---> 24\u001b[0;31m         \u001b[0mprint\u001b[0m\u001b[0;34m(\u001b[0m\u001b[0;34m\"loss : {:0.4f}\"\u001b[0m\u001b[0;34m.\u001b[0m\u001b[0mformat\u001b[0m\u001b[0;34m(\u001b[0m\u001b[0mhistory\u001b[0m\u001b[0;34m.\u001b[0m\u001b[0mhistory\u001b[0m\u001b[0;34m[\u001b[0m\u001b[0;34m'loss'\u001b[0m\u001b[0;34m]\u001b[0m\u001b[0;34m[\u001b[0m\u001b[0;34m-\u001b[0m\u001b[0;36m1\u001b[0m\u001b[0;34m]\u001b[0m\u001b[0;34m)\u001b[0m\u001b[0;34m)\u001b[0m\u001b[0;34m\u001b[0m\u001b[0;34m\u001b[0m\u001b[0m\n\u001b[0m\u001b[1;32m     25\u001b[0m         \u001b[0mprint\u001b[0m\u001b[0;34m(\u001b[0m\u001b[0;34m\"accuracy : {:0.4f}\"\u001b[0m\u001b[0;34m.\u001b[0m\u001b[0mformat\u001b[0m\u001b[0;34m(\u001b[0m\u001b[0mhistory\u001b[0m\u001b[0;34m.\u001b[0m\u001b[0mhistory\u001b[0m\u001b[0;34m[\u001b[0m\u001b[0;34m'sparse_categorical_accuracy'\u001b[0m\u001b[0;34m]\u001b[0m\u001b[0;34m[\u001b[0m\u001b[0;34m-\u001b[0m\u001b[0;36m1\u001b[0m\u001b[0;34m]\u001b[0m\u001b[0;34m)\u001b[0m\u001b[0;34m)\u001b[0m\u001b[0;34m\u001b[0m\u001b[0;34m\u001b[0m\u001b[0m\n\u001b[1;32m     26\u001b[0m         \u001b[0mprint\u001b[0m\u001b[0;34m(\u001b[0m\u001b[0;34m\"val_loss : {:0.4f}\"\u001b[0m\u001b[0;34m.\u001b[0m\u001b[0mformat\u001b[0m\u001b[0;34m(\u001b[0m\u001b[0mhistory\u001b[0m\u001b[0;34m.\u001b[0m\u001b[0mhistory\u001b[0m\u001b[0;34m[\u001b[0m\u001b[0;34m'val_loss'\u001b[0m\u001b[0;34m]\u001b[0m\u001b[0;34m[\u001b[0m\u001b[0;34m-\u001b[0m\u001b[0;36m1\u001b[0m\u001b[0;34m]\u001b[0m\u001b[0;34m)\u001b[0m\u001b[0;34m)\u001b[0m\u001b[0;34m\u001b[0m\u001b[0;34m\u001b[0m\u001b[0m\n",
      "\u001b[0;31mIndexError\u001b[0m: list index out of range"
     ]
    }
   ],
   "source": [
    "history = History(history = {\"loss\" : [], \"val_loss\" : [], \"sparse_categorical_accuracy\" : [], \"val_sparse_categorical_accuracy\" : []})\n",
    "\n",
    "\n",
    "epoch = 0\n",
    "\n",
    "for step, (images, labels) in enumerate(train_dist_ds):\n",
    "    strategy.run(train_step, args = (images, labels))\n",
    "    print('=', end = '', flush = True)\n",
    "    \n",
    "    if ((step + 1) // STEPS_PER_EPOCH) > epoch:\n",
    "        print('|', end = '', flush = True)\n",
    "        \n",
    "        for image, labels in valid_dist_ds:\n",
    "            strategy.run(valid_step, args = (image, labels))\n",
    "            print(\"=\", end = '', flush = True)\n",
    "            \n",
    "        # metrics\n",
    "        history.history['sparse_categorical_accuracy'].append(train_accuracy.result().numpy())\n",
    "        history.history['val_sparse_categorical_accuracy'].append(valid_accuracy.result().numpy())\n",
    "        \n",
    "        epoch_time = time.time() - epoch_start_time\n",
    "        print(\"\\nEPOCH {:d}/{:d}\".format(epoch + 1, EPOCHS))\n",
    "        print(\"time : {:0.1f}s\".format(epoch + 1, EPOCHS))\n",
    "        print(\"loss : {:0.4f}\".format(history.history['loss'][-1]))\n",
    "        print(\"accuracy : {:0.4f}\".format(history.history['sparse_categorical_accuracy'][-1]))\n",
    "        print(\"val_loss : {:0.4f}\".format(history.history['val_loss'][-1]))\n",
    "        print(\"val_acc : {:0.4f}\".format(history.history[\"val_sparse_categorical_accuracy\"][-1]))\n",
    "        print(\"lr : {:0.4g}\".format(lrfn(epoch)), flush = True)\n",
    "        \n",
    "    epoch = (step + 1) // STEPS_PER_EPOCH\n",
    "    \n",
    "    epoch_start_time = time.time()\n",
    "    train_accuracy.reset_states()\n",
    "    valid_accuracy.reset_states()\n",
    "    \n",
    "    valid_loss.reset_states()\n",
    "    train_loss.reset_states()\n",
    "    \n",
    "    if epoch >= EPOCHS:\n",
    "        break\n",
    "        \n",
    "        \n",
    "simple_ctl_training_time = time.time() - start_time \n",
    "print(\"Training Time -> \", simple_ctl_training_time)\n",
    "    "
   ]
  },
  {
   "cell_type": "markdown",
   "metadata": {
    "papermill": {
     "duration": 0.133931,
     "end_time": "2021-02-22T15:53:39.452066",
     "exception": false,
     "start_time": "2021-02-22T15:53:39.318135",
     "status": "completed"
    },
    "tags": []
   },
   "source": [
    "## Optimized Model Training"
   ]
  },
  {
   "cell_type": "code",
   "execution_count": 22,
   "metadata": {
    "execution": {
     "iopub.execute_input": "2021-02-22T15:53:39.737189Z",
     "iopub.status.busy": "2021-02-22T15:53:39.736311Z",
     "iopub.status.idle": "2021-02-22T15:53:48.070164Z",
     "shell.execute_reply": "2021-02-22T15:53:48.069584Z"
    },
    "papermill": {
     "duration": 8.48283,
     "end_time": "2021-02-22T15:53:48.070322",
     "exception": false,
     "start_time": "2021-02-22T15:53:39.587492",
     "status": "completed"
    },
    "tags": []
   },
   "outputs": [
    {
     "name": "stdout",
     "output_type": "stream",
     "text": [
      "Model: \"sequential_2\"\n",
      "_________________________________________________________________\n",
      "Layer (type)                 Output Shape              Param #   \n",
      "=================================================================\n",
      "lambda_2 (Lambda)            (None, 331, 331, 3)       0         \n",
      "_________________________________________________________________\n",
      "xception (Functional)        (None, 11, 11, 2048)      20861480  \n",
      "_________________________________________________________________\n",
      "global_average_pooling2d_2 ( (None, 2048)              0         \n",
      "_________________________________________________________________\n",
      "dense_2 (Dense)              (None, 104)               213096    \n",
      "=================================================================\n",
      "Total params: 21,074,576\n",
      "Trainable params: 21,020,048\n",
      "Non-trainable params: 54,528\n",
      "_________________________________________________________________\n"
     ]
    }
   ],
   "source": [
    "with strategy.scope():\n",
    "    pretrained_model = tf.keras.applications.Xception(weights='imagenet', include_top=False ,input_shape=[*IMAGE_SIZE, 3])\n",
    "    pretrained_model.trainable = True # False = transfer learning, True = fine-tuning\n",
    "    \n",
    "    model = tf.keras.Sequential([\n",
    "        # convert image format from int [0,255] to the format expected by this model\n",
    "        tf.keras.layers.Lambda(lambda data: tf.keras.applications.xception.preprocess_input(tf.cast(data, tf.float32)), input_shape=[*IMAGE_SIZE, 3]),\n",
    "        pretrained_model,\n",
    "        tf.keras.layers.GlobalAveragePooling2D(),\n",
    "        tf.keras.layers.Dense(len(CLASSES), activation='softmax')\n",
    "    ])\n",
    "    model.summary()\n",
    "    \n",
    "    # Instiate optimizer with learning rate schedule\n",
    "    class LRSchedule(tf.keras.optimizers.schedules.LearningRateSchedule):\n",
    "        def __call__(self, step):\n",
    "            return lrfn(epoch=step//STEPS_PER_EPOCH)\n",
    "    optimizer = tf.keras.optimizers.Adam(learning_rate=LRSchedule())\n",
    "        \n",
    "    # this also works but is not very readable\n",
    "    #optimizer = tf.keras.optimizers.Adam(learning_rate=lambda: lrfn(tf.cast(optimizer.iterations, tf.float32)//STEPS_PER_EPOCH))\n",
    "    \n",
    "    # Instantiate metrics\n",
    "    train_accuracy = tf.keras.metrics.SparseCategoricalAccuracy()\n",
    "    valid_accuracy = tf.keras.metrics.SparseCategoricalAccuracy()\n",
    "    train_loss = tf.keras.metrics.Sum()\n",
    "    valid_loss = tf.keras.metrics.Sum()\n",
    "    \n",
    "    # Loss\n",
    "    # The recommendation from the Tensorflow custom training loop  documentation is:\n",
    "    # loss_fn = lambda a,b: tf.nn.compute_average_loss(tf.keras.losses.sparse_categorical_crossentropy(a,b), global_batch_size=BATCH_SIZE)\n",
    "    # https://www.tensorflow.org/tutorials/distribute/custom_training#define_the_loss_function\n",
    "    # This works too and shifts all the averaging to the training loop which is easier:\n",
    "    loss_fn = tf.keras.losses.sparse_categorical_crossentropy"
   ]
  },
  {
   "cell_type": "code",
   "execution_count": 23,
   "metadata": {
    "execution": {
     "iopub.execute_input": "2021-02-22T15:53:48.343164Z",
     "iopub.status.busy": "2021-02-22T15:53:48.342474Z",
     "iopub.status.idle": "2021-02-22T15:53:48.352560Z",
     "shell.execute_reply": "2021-02-22T15:53:48.353111Z"
    },
    "papermill": {
     "duration": 0.148659,
     "end_time": "2021-02-22T15:53:48.353302",
     "exception": false,
     "start_time": "2021-02-22T15:53:48.204643",
     "status": "completed"
    },
    "tags": []
   },
   "outputs": [],
   "source": [
    "STEPS_PER_TPU_CALL = 99\n",
    "VALIDATION_STEPS_PER_TPU_CALL = 29\n",
    "\n",
    "@tf.function\n",
    "def train_step(data_iter):\n",
    "    def train_step_fn(images, labels):\n",
    "        with tf.GradientTape() as tape:\n",
    "            probabilities = model(images, training=True)\n",
    "            loss = loss_fn(labels, probabilities)\n",
    "        grads = tape.gradient(loss, model.trainable_variables)\n",
    "        optimizer.apply_gradients(zip(grads, model.trainable_variables))\n",
    "        \n",
    "        #update metrics\n",
    "        train_accuracy.update_state(labels, probabilities)\n",
    "        train_loss.update_state(loss)\n",
    "        \n",
    "    # this loop runs on the TPU\n",
    "    for _ in tf.range(STEPS_PER_TPU_CALL):\n",
    "        strategy.run(train_step_fn, next(data_iter))\n",
    "\n",
    "@tf.function\n",
    "def valid_step(data_iter):\n",
    "    def valid_step_fn(images, labels):\n",
    "        probabilities = model(images, training=False)\n",
    "        loss = loss_fn(labels, probabilities)\n",
    "        \n",
    "        # update metrics\n",
    "        valid_accuracy.update_state(labels, probabilities)\n",
    "        valid_loss.update_state(loss)\n",
    "        \n",
    "    # this loop runs on the TPU\n",
    "    for _ in tf.range(VALIDATION_STEPS_PER_TPU_CALL):\n",
    "        strategy.run(valid_step_fn, next(data_iter))"
   ]
  },
  {
   "cell_type": "code",
   "execution_count": 24,
   "metadata": {
    "execution": {
     "iopub.execute_input": "2021-02-22T15:53:48.624777Z",
     "iopub.status.busy": "2021-02-22T15:53:48.623763Z",
     "iopub.status.idle": "2021-02-22T15:53:48.627476Z",
     "shell.execute_reply": "2021-02-22T15:53:48.626924Z"
    },
    "papermill": {
     "duration": 0.14161,
     "end_time": "2021-02-22T15:53:48.627612",
     "exception": false,
     "start_time": "2021-02-22T15:53:48.486002",
     "status": "completed"
    },
    "tags": []
   },
   "outputs": [],
   "source": [
    "import time\n",
    "from collections import namedtuple"
   ]
  },
  {
   "cell_type": "code",
   "execution_count": 25,
   "metadata": {
    "execution": {
     "iopub.execute_input": "2021-02-22T15:53:48.913868Z",
     "iopub.status.busy": "2021-02-22T15:53:48.912766Z",
     "iopub.status.idle": "2021-02-22T15:56:45.182034Z",
     "shell.execute_reply": "2021-02-22T15:56:45.181470Z"
    },
    "papermill": {
     "duration": 176.422286,
     "end_time": "2021-02-22T15:56:45.182181",
     "exception": false,
     "start_time": "2021-02-22T15:53:48.759895",
     "status": "completed"
    },
    "tags": []
   },
   "outputs": [
    {
     "name": "stdout",
     "output_type": "stream",
     "text": [
      "Training steps per epoch: 99 in increments of 99\n",
      "Validation images: 3712 Batch size: 128 Validation steps: 29 in increments of 29\n",
      "Repeated validation images: 0\n",
      "=|=\n",
      "EPOCH 1/13\n",
      "time: 61.7s loss: 4.3838 accuracy: 0.1232 val_loss: 4.1617 val_acc: 0.2325 lr: 1e-05 steps/val_steps: 99/29\n",
      "=|=\n",
      "EPOCH 2/13\n",
      "time: 9.9s loss: 2.3489 accuracy: 0.5249 val_loss: 1.0876 val_acc: 0.7516 lr: 0.0001133 steps/val_steps: 99/29\n",
      "=|=\n",
      "EPOCH 3/13\n",
      "time: 10.0s loss: 0.7661 accuracy: 0.8362 val_loss: 0.4820 val_acc: 0.8874 lr: 0.0002167 steps/val_steps: 99/29\n",
      "=|=\n",
      "EPOCH 4/13\n",
      "time: 9.4s loss: 0.2903 accuracy: 0.9384 val_loss: 0.4148 val_acc: 0.8982 lr: 0.00032 steps/val_steps: 99/29\n",
      "=|=\n",
      "EPOCH 5/13\n",
      "time: 9.5s loss: 0.1116 accuracy: 0.9771 val_loss: 0.3332 val_acc: 0.9159 lr: 0.000227 steps/val_steps: 99/29\n",
      "=|=\n",
      "EPOCH 6/13\n",
      "time: 9.4s loss: 0.0459 accuracy: 0.9929 val_loss: 0.3184 val_acc: 0.9275 lr: 0.0001619 steps/val_steps: 99/29\n",
      "=|=\n",
      "EPOCH 7/13\n",
      "time: 9.5s loss: 0.0269 accuracy: 0.9971 val_loss: 0.2831 val_acc: 0.9329 lr: 0.0001163 steps/val_steps: 99/29\n",
      "=|=\n",
      "EPOCH 8/13\n",
      "time: 9.6s loss: 0.0192 accuracy: 0.9981 val_loss: 0.2899 val_acc: 0.9297 lr: 8.443e-05 steps/val_steps: 99/29\n",
      "=|=\n",
      "EPOCH 9/13\n",
      "time: 9.4s loss: 0.0130 accuracy: 0.9991 val_loss: 0.2747 val_acc: 0.9313 lr: 6.21e-05 steps/val_steps: 99/29\n",
      "=|=\n",
      "EPOCH 10/13\n",
      "time: 9.4s loss: 0.0114 accuracy: 0.9994 val_loss: 0.2969 val_acc: 0.9283 lr: 4.647e-05 steps/val_steps: 99/29\n",
      "=|=\n",
      "EPOCH 11/13\n",
      "time: 9.4s loss: 0.0102 accuracy: 0.9998 val_loss: 0.2753 val_acc: 0.9270 lr: 3.553e-05 steps/val_steps: 99/29\n",
      "=|=\n",
      "EPOCH 12/13\n",
      "time: 9.4s loss: 0.0099 accuracy: 0.9997 val_loss: 0.3237 val_acc: 0.9224 lr: 2.787e-05 steps/val_steps: 99/29\n",
      "=|=\n",
      "EPOCH 13/13\n",
      "time: 9.4s loss: 0.0090 accuracy: 0.9998 val_loss: 0.2699 val_acc: 0.9327 lr: 2.251e-05 steps/val_steps: 99/29\n",
      "OPTIMIZED CTL TRAINING TIME: 176.2s\n"
     ]
    }
   ],
   "source": [
    "start_time = epoch_start_time = time.time()\n",
    "\n",
    "# distribute the datset according to the strategy\n",
    "train_dist_ds = strategy.experimental_distribute_dataset(get_training_dataset())\n",
    "# Hitting End Of Dataset exceptions is a problem in this setup. Using a repeated validation set instead.\n",
    "# This will introduce a slight inaccuracy because the validation dataset now has some repeated elements.\n",
    "valid_dist_ds = strategy.experimental_distribute_dataset(get_validation_dataset(repeated=True))\n",
    "\n",
    "print(\"Training steps per epoch:\", STEPS_PER_EPOCH, \"in increments of\", STEPS_PER_TPU_CALL)\n",
    "print(\"Validation images:\", NUM_VALIDATION_IMAGES,\n",
    "      \"Batch size:\", BATCH_SIZE,\n",
    "      \"Validation steps:\", NUM_VALIDATION_IMAGES//BATCH_SIZE, \"in increments of\", VALIDATION_STEPS_PER_TPU_CALL)\n",
    "print(\"Repeated validation images:\", int_div_round_up(NUM_VALIDATION_IMAGES, BATCH_SIZE*VALIDATION_STEPS_PER_TPU_CALL)*VALIDATION_STEPS_PER_TPU_CALL*BATCH_SIZE-NUM_VALIDATION_IMAGES)\n",
    "History = namedtuple('History', 'history')\n",
    "history = History(history={'loss': [], 'val_loss': [], 'sparse_categorical_accuracy': [], 'val_sparse_categorical_accuracy': []})\n",
    "\n",
    "epoch = 0\n",
    "train_data_iter = iter(train_dist_ds) # the training data iterator is repeated and it is not reset\n",
    "                                      # for each validation run (same as model.fit)\n",
    "valid_data_iter = iter(valid_dist_ds) # the validation data iterator is repeated and it is not reset\n",
    "                                      # for each validation run (different from model.fit whre the\n",
    "                                      # recommendation is to use a non-repeating validation dataset)\n",
    "\n",
    "step = 0\n",
    "epoch_steps = 0\n",
    "while True:\n",
    "    \n",
    "    # run training step\n",
    "    train_step(train_data_iter)\n",
    "    epoch_steps += STEPS_PER_TPU_CALL\n",
    "    step += STEPS_PER_TPU_CALL\n",
    "    print('=', end='', flush=True)\n",
    "\n",
    "    # validation run at the end of each epoch\n",
    "    if (step // STEPS_PER_EPOCH) > epoch:\n",
    "        print('|', end='', flush=True)\n",
    "        \n",
    "        # validation run\n",
    "        valid_epoch_steps = 0\n",
    "        for _ in range(int_div_round_up(NUM_VALIDATION_IMAGES, BATCH_SIZE*VALIDATION_STEPS_PER_TPU_CALL)):\n",
    "            valid_step(valid_data_iter)\n",
    "            valid_epoch_steps += VALIDATION_STEPS_PER_TPU_CALL\n",
    "            print('=', end='', flush=True)\n",
    "\n",
    "        # compute metrics\n",
    "        history.history['sparse_categorical_accuracy'].append(train_accuracy.result().numpy())\n",
    "        history.history['val_sparse_categorical_accuracy'].append(valid_accuracy.result().numpy())\n",
    "        history.history['loss'].append(train_loss.result().numpy() / (BATCH_SIZE*epoch_steps))\n",
    "        history.history['val_loss'].append(valid_loss.result().numpy() / (BATCH_SIZE*valid_epoch_steps))\n",
    "        \n",
    "        # report metrics\n",
    "        epoch_time = time.time() - epoch_start_time\n",
    "        print('\\nEPOCH {:d}/{:d}'.format(epoch+1, EPOCHS))\n",
    "        print('time: {:0.1f}s'.format(epoch_time),\n",
    "              'loss: {:0.4f}'.format(history.history['loss'][-1]),\n",
    "              'accuracy: {:0.4f}'.format(history.history['sparse_categorical_accuracy'][-1]),\n",
    "              'val_loss: {:0.4f}'.format(history.history['val_loss'][-1]),\n",
    "              'val_acc: {:0.4f}'.format(history.history['val_sparse_categorical_accuracy'][-1]),\n",
    "              'lr: {:0.4g}'.format(lrfn(epoch)),\n",
    "              'steps/val_steps: {:d}/{:d}'.format(epoch_steps, valid_epoch_steps), flush=True)\n",
    "        \n",
    "        # set up next epoch\n",
    "        epoch = step // STEPS_PER_EPOCH\n",
    "        epoch_steps = 0\n",
    "        epoch_start_time = time.time()\n",
    "        train_accuracy.reset_states()\n",
    "        valid_accuracy.reset_states()\n",
    "        valid_loss.reset_states()\n",
    "        train_loss.reset_states()\n",
    "        if epoch >= EPOCHS:\n",
    "            break\n",
    "\n",
    "optimized_ctl_training_time = time.time() - start_time\n",
    "print(\"OPTIMIZED CTL TRAINING TIME: {:0.1f}s\".format(optimized_ctl_training_time))"
   ]
  },
  {
   "cell_type": "markdown",
   "metadata": {
    "papermill": {
     "duration": 0.150452,
     "end_time": "2021-02-22T15:56:45.484426",
     "exception": false,
     "start_time": "2021-02-22T15:56:45.333974",
     "status": "completed"
    },
    "tags": []
   },
   "source": [
    "##### Optimized Model Training + Mixed Precision"
   ]
  },
  {
   "cell_type": "code",
   "execution_count": 26,
   "metadata": {
    "execution": {
     "iopub.execute_input": "2021-02-22T15:56:45.795541Z",
     "iopub.status.busy": "2021-02-22T15:56:45.794790Z",
     "iopub.status.idle": "2021-02-22T15:56:45.798851Z",
     "shell.execute_reply": "2021-02-22T15:56:45.799350Z"
    },
    "papermill": {
     "duration": 0.164534,
     "end_time": "2021-02-22T15:56:45.799546",
     "exception": false,
     "start_time": "2021-02-22T15:56:45.635012",
     "status": "completed"
    },
    "tags": []
   },
   "outputs": [
    {
     "name": "stdout",
     "output_type": "stream",
     "text": [
      "Mixed Precision enabled\n",
      "XLA Enabled\n"
     ]
    }
   ],
   "source": [
    "### Mixed Precision Training\n",
    "\n",
    "MIXED_PRECISION = True\n",
    "XLA_ACCELERATE = True\n",
    "\n",
    "if MIXED_PRECISION:\n",
    "    from tensorflow.keras.mixed_precision import experimental as mixed_precision \n",
    "    if tpu: policy = tf.keras.mixed_precision.experimental.Policy('mixed_bfloat16')\n",
    "    else: policy = tf.keras.mixed_precision.experimental.Policy(\"float32\")\n",
    "        \n",
    "    mixed_precision.set_policy(policy)\n",
    "    print(\"Mixed Precision enabled\")\n",
    "    \n",
    "if XLA_ACCELERATE:\n",
    "    tf.config.optimizer.set_jit(True)\n",
    "    print(\"XLA Enabled\")"
   ]
  },
  {
   "cell_type": "code",
   "execution_count": 27,
   "metadata": {
    "execution": {
     "iopub.execute_input": "2021-02-22T15:56:46.120148Z",
     "iopub.status.busy": "2021-02-22T15:56:46.115404Z",
     "iopub.status.idle": "2021-02-22T15:56:54.392507Z",
     "shell.execute_reply": "2021-02-22T15:56:54.391774Z"
    },
    "papermill": {
     "duration": 8.440298,
     "end_time": "2021-02-22T15:56:54.392656",
     "exception": false,
     "start_time": "2021-02-22T15:56:45.952358",
     "status": "completed"
    },
    "tags": []
   },
   "outputs": [
    {
     "name": "stdout",
     "output_type": "stream",
     "text": [
      "Model: \"sequential_3\"\n",
      "_________________________________________________________________\n",
      "Layer (type)                 Output Shape              Param #   \n",
      "=================================================================\n",
      "lambda_3 (Lambda)            (None, 331, 331, 3)       0         \n",
      "_________________________________________________________________\n",
      "xception (Functional)        (None, 11, 11, 2048)      20861480  \n",
      "_________________________________________________________________\n",
      "global_average_pooling2d_3 ( (None, 2048)              0         \n",
      "_________________________________________________________________\n",
      "dense_3 (Dense)              (None, 104)               213096    \n",
      "=================================================================\n",
      "Total params: 21,074,576\n",
      "Trainable params: 21,020,048\n",
      "Non-trainable params: 54,528\n",
      "_________________________________________________________________\n"
     ]
    }
   ],
   "source": [
    "with strategy.scope():\n",
    "    pretrained_model = tf.keras.applications.Xception(weights='imagenet', include_top=False ,input_shape=[*IMAGE_SIZE, 3])\n",
    "    pretrained_model.trainable = True # False = transfer learning, True = fine-tuning\n",
    "    \n",
    "    model = tf.keras.Sequential([\n",
    "        # convert image format from int [0,255] to the format expected by this model\n",
    "        tf.keras.layers.Lambda(lambda data: tf.keras.applications.xception.preprocess_input(tf.cast(data, tf.float32)), input_shape=[*IMAGE_SIZE, 3]),\n",
    "        pretrained_model,\n",
    "        tf.keras.layers.GlobalAveragePooling2D(),\n",
    "        tf.keras.layers.Dense(len(CLASSES), activation='softmax')\n",
    "    ])\n",
    "    model.summary()\n",
    "    \n",
    "    # Instiate optimizer with learning rate schedule\n",
    "    class LRSchedule(tf.keras.optimizers.schedules.LearningRateSchedule):\n",
    "        def __call__(self, step):\n",
    "            return lrfn(epoch=step//STEPS_PER_EPOCH)\n",
    "    optimizer = tf.keras.optimizers.Adam(learning_rate=LRSchedule())\n",
    "        \n",
    "    # this also works but is not very readable\n",
    "    #optimizer = tf.keras.optimizers.Adam(learning_rate=lambda: lrfn(tf.cast(optimizer.iterations, tf.float32)//STEPS_PER_EPOCH))\n",
    "    \n",
    "    # Instantiate metrics\n",
    "    train_accuracy = tf.keras.metrics.SparseCategoricalAccuracy()\n",
    "    valid_accuracy = tf.keras.metrics.SparseCategoricalAccuracy()\n",
    "    train_loss = tf.keras.metrics.Sum()\n",
    "    valid_loss = tf.keras.metrics.Sum()\n",
    "    \n",
    "    # Loss\n",
    "    # The recommendation from the Tensorflow custom training loop  documentation is:\n",
    "    # loss_fn = lambda a,b: tf.nn.compute_average_loss(tf.keras.losses.sparse_categorical_crossentropy(a,b), global_batch_size=BATCH_SIZE)\n",
    "    # https://www.tensorflow.org/tutorials/distribute/custom_training#define_the_loss_function\n",
    "    # This works too and shifts all the averaging to the training loop which is easier:\n",
    "    loss_fn = tf.keras.losses.sparse_categorical_crossentropy"
   ]
  },
  {
   "cell_type": "code",
   "execution_count": 28,
   "metadata": {
    "execution": {
     "iopub.execute_input": "2021-02-22T15:56:54.709243Z",
     "iopub.status.busy": "2021-02-22T15:56:54.708531Z",
     "iopub.status.idle": "2021-02-22T15:56:54.950333Z",
     "shell.execute_reply": "2021-02-22T15:56:54.949768Z"
    },
    "papermill": {
     "duration": 0.407293,
     "end_time": "2021-02-22T15:56:54.950482",
     "exception": false,
     "start_time": "2021-02-22T15:56:54.543189",
     "status": "completed"
    },
    "tags": []
   },
   "outputs": [],
   "source": [
    "STEPS_PER_TPU_CALL = 99\n",
    "VALIDATION_STEPS_PER_TPU_CALL = 29\n",
    "\n",
    "@tf.function\n",
    "def train_step(data_iter):\n",
    "    def train_step_fn(images, labels):\n",
    "        with tf.GradientTape() as tape:\n",
    "            probabilities = model(images, training=True)\n",
    "            loss = loss_fn(labels, probabilities)\n",
    "        grads = tape.gradient(loss, model.trainable_variables)\n",
    "        optimizer.apply_gradients(zip(grads, model.trainable_variables))\n",
    "        \n",
    "        #update metrics\n",
    "        train_accuracy.update_state(labels, probabilities)\n",
    "        train_loss.update_state(loss)\n",
    "        \n",
    "    # this loop runs on the TPU\n",
    "    for _ in tf.range(STEPS_PER_TPU_CALL):\n",
    "        strategy.run(train_step_fn, next(data_iter))\n",
    "\n",
    "@tf.function\n",
    "def valid_step(data_iter):\n",
    "    def valid_step_fn(images, labels):\n",
    "        probabilities = model(images, training=False)\n",
    "        loss = loss_fn(labels, probabilities)\n",
    "        \n",
    "        # update metrics\n",
    "        valid_accuracy.update_state(labels, probabilities)\n",
    "        valid_loss.update_state(loss)\n",
    "        \n",
    "    # this loop runs on the TPU\n",
    "    for _ in tf.range(VALIDATION_STEPS_PER_TPU_CALL):\n",
    "        strategy.run(valid_step_fn, next(data_iter))"
   ]
  },
  {
   "cell_type": "code",
   "execution_count": 29,
   "metadata": {
    "execution": {
     "iopub.execute_input": "2021-02-22T15:56:55.255399Z",
     "iopub.status.busy": "2021-02-22T15:56:55.254742Z",
     "iopub.status.idle": "2021-02-22T15:56:55.257503Z",
     "shell.execute_reply": "2021-02-22T15:56:55.258001Z"
    },
    "papermill": {
     "duration": 0.156772,
     "end_time": "2021-02-22T15:56:55.258192",
     "exception": false,
     "start_time": "2021-02-22T15:56:55.101420",
     "status": "completed"
    },
    "tags": []
   },
   "outputs": [],
   "source": [
    "import time\n",
    "from collections import namedtuple"
   ]
  },
  {
   "cell_type": "code",
   "execution_count": 30,
   "metadata": {
    "execution": {
     "iopub.execute_input": "2021-02-22T15:56:55.576087Z",
     "iopub.status.busy": "2021-02-22T15:56:55.573154Z",
     "iopub.status.idle": "2021-02-22T15:59:37.898118Z",
     "shell.execute_reply": "2021-02-22T15:59:37.897551Z"
    },
    "papermill": {
     "duration": 162.490079,
     "end_time": "2021-02-22T15:59:37.898261",
     "exception": false,
     "start_time": "2021-02-22T15:56:55.408182",
     "status": "completed"
    },
    "tags": []
   },
   "outputs": [
    {
     "name": "stdout",
     "output_type": "stream",
     "text": [
      "Training steps per epoch: 99 in increments of 99\n",
      "Validation images: 3712 Batch size: 128 Validation steps: 29 in increments of 29\n",
      "Repeated validation images: 0\n",
      "=|=\n",
      "EPOCH 1/13\n",
      "time: 67.4s loss: 4.4414 accuracy: 0.0890 val_loss: 4.2116 val_acc: 0.1899 lr: 1e-05 steps/val_steps: 99/29\n",
      "=|=\n",
      "EPOCH 2/13\n",
      "time: 8.5s loss: 2.4025 accuracy: 0.5075 val_loss: 1.0354 val_acc: 0.7645 lr: 0.0001133 steps/val_steps: 99/29\n",
      "=|=\n",
      "EPOCH 3/13\n",
      "time: 8.4s loss: 0.7554 accuracy: 0.8436 val_loss: 0.4436 val_acc: 0.8917 lr: 0.0002167 steps/val_steps: 99/29\n",
      "=|=\n",
      "EPOCH 4/13\n",
      "time: 7.8s loss: 0.2859 accuracy: 0.9395 val_loss: 0.3928 val_acc: 0.9036 lr: 0.00032 steps/val_steps: 99/29\n",
      "=|=\n",
      "EPOCH 5/13\n",
      "time: 7.7s loss: 0.1102 accuracy: 0.9779 val_loss: 0.3736 val_acc: 0.9044 lr: 0.000227 steps/val_steps: 99/29\n",
      "=|=\n",
      "EPOCH 6/13\n",
      "time: 7.8s loss: 0.0512 accuracy: 0.9910 val_loss: 0.3140 val_acc: 0.9170 lr: 0.0001619 steps/val_steps: 99/29\n",
      "=|=\n",
      "EPOCH 7/13\n",
      "time: 7.8s loss: 0.0282 accuracy: 0.9964 val_loss: 0.2950 val_acc: 0.9211 lr: 0.0001163 steps/val_steps: 99/29\n",
      "=|=\n",
      "EPOCH 8/13\n",
      "time: 7.8s loss: 0.0209 accuracy: 0.9972 val_loss: 0.2969 val_acc: 0.9230 lr: 8.443e-05 steps/val_steps: 99/29\n",
      "=|=\n",
      "EPOCH 9/13\n",
      "time: 7.8s loss: 0.0130 accuracy: 0.9989 val_loss: 0.2856 val_acc: 0.9251 lr: 6.21e-05 steps/val_steps: 99/29\n",
      "=|=\n",
      "EPOCH 10/13\n",
      "time: 7.7s loss: 0.0116 accuracy: 0.9992 val_loss: 0.2989 val_acc: 0.9251 lr: 4.647e-05 steps/val_steps: 99/29\n",
      "=|=\n",
      "EPOCH 11/13\n",
      "time: 7.8s loss: 0.0111 accuracy: 0.9993 val_loss: 0.2951 val_acc: 0.9221 lr: 3.553e-05 steps/val_steps: 99/29\n",
      "=|=\n",
      "EPOCH 12/13\n",
      "time: 7.8s loss: 0.0094 accuracy: 0.9993 val_loss: 0.2775 val_acc: 0.9316 lr: 2.787e-05 steps/val_steps: 99/29\n",
      "=|=\n",
      "EPOCH 13/13\n",
      "time: 7.8s loss: 0.0090 accuracy: 0.9994 val_loss: 0.3037 val_acc: 0.9256 lr: 2.251e-05 steps/val_steps: 99/29\n",
      "OPTIMIZED CTL TRAINING TIME: 162.2s\n"
     ]
    }
   ],
   "source": [
    "start_time = epoch_start_time = time.time()\n",
    "\n",
    "# distribute the datset according to the strategy\n",
    "train_dist_ds = strategy.experimental_distribute_dataset(get_training_dataset())\n",
    "# Hitting End Of Dataset exceptions is a problem in this setup. Using a repeated validation set instead.\n",
    "# This will introduce a slight inaccuracy because the validation dataset now has some repeated elements.\n",
    "valid_dist_ds = strategy.experimental_distribute_dataset(get_validation_dataset(repeated=True))\n",
    "\n",
    "print(\"Training steps per epoch:\", STEPS_PER_EPOCH, \"in increments of\", STEPS_PER_TPU_CALL)\n",
    "print(\"Validation images:\", NUM_VALIDATION_IMAGES,\n",
    "      \"Batch size:\", BATCH_SIZE,\n",
    "      \"Validation steps:\", NUM_VALIDATION_IMAGES//BATCH_SIZE, \"in increments of\", VALIDATION_STEPS_PER_TPU_CALL)\n",
    "print(\"Repeated validation images:\", int_div_round_up(NUM_VALIDATION_IMAGES, BATCH_SIZE*VALIDATION_STEPS_PER_TPU_CALL)*VALIDATION_STEPS_PER_TPU_CALL*BATCH_SIZE-NUM_VALIDATION_IMAGES)\n",
    "History = namedtuple('History', 'history')\n",
    "history = History(history={'loss': [], 'val_loss': [], 'sparse_categorical_accuracy': [], 'val_sparse_categorical_accuracy': []})\n",
    "\n",
    "epoch = 0\n",
    "train_data_iter = iter(train_dist_ds) # the training data iterator is repeated and it is not reset\n",
    "                                      # for each validation run (same as model.fit)\n",
    "valid_data_iter = iter(valid_dist_ds) # the validation data iterator is repeated and it is not reset\n",
    "                                      # for each validation run (different from model.fit whre the\n",
    "                                      # recommendation is to use a non-repeating validation dataset)\n",
    "\n",
    "step = 0\n",
    "epoch_steps = 0\n",
    "while True:\n",
    "    \n",
    "    # run training step\n",
    "    train_step(train_data_iter)\n",
    "    epoch_steps += STEPS_PER_TPU_CALL\n",
    "    step += STEPS_PER_TPU_CALL\n",
    "    print('=', end='', flush=True)\n",
    "\n",
    "    # validation run at the end of each epoch\n",
    "    if (step // STEPS_PER_EPOCH) > epoch:\n",
    "        print('|', end='', flush=True)\n",
    "        \n",
    "        # validation run\n",
    "        valid_epoch_steps = 0\n",
    "        for _ in range(int_div_round_up(NUM_VALIDATION_IMAGES, BATCH_SIZE*VALIDATION_STEPS_PER_TPU_CALL)):\n",
    "            valid_step(valid_data_iter)\n",
    "            valid_epoch_steps += VALIDATION_STEPS_PER_TPU_CALL\n",
    "            print('=', end='', flush=True)\n",
    "\n",
    "        # compute metrics\n",
    "        history.history['sparse_categorical_accuracy'].append(train_accuracy.result().numpy())\n",
    "        history.history['val_sparse_categorical_accuracy'].append(valid_accuracy.result().numpy())\n",
    "        history.history['loss'].append(train_loss.result().numpy() / (BATCH_SIZE*epoch_steps))\n",
    "        history.history['val_loss'].append(valid_loss.result().numpy() / (BATCH_SIZE*valid_epoch_steps))\n",
    "        \n",
    "        # report metrics\n",
    "        epoch_time = time.time() - epoch_start_time\n",
    "        print('\\nEPOCH {:d}/{:d}'.format(epoch+1, EPOCHS))\n",
    "        print('time: {:0.1f}s'.format(epoch_time),\n",
    "              'loss: {:0.4f}'.format(history.history['loss'][-1]),\n",
    "              'accuracy: {:0.4f}'.format(history.history['sparse_categorical_accuracy'][-1]),\n",
    "              'val_loss: {:0.4f}'.format(history.history['val_loss'][-1]),\n",
    "              'val_acc: {:0.4f}'.format(history.history['val_sparse_categorical_accuracy'][-1]),\n",
    "              'lr: {:0.4g}'.format(lrfn(epoch)),\n",
    "              'steps/val_steps: {:d}/{:d}'.format(epoch_steps, valid_epoch_steps), flush=True)\n",
    "        \n",
    "        # set up next epoch\n",
    "        epoch = step // STEPS_PER_EPOCH\n",
    "        epoch_steps = 0\n",
    "        epoch_start_time = time.time()\n",
    "        train_accuracy.reset_states()\n",
    "        valid_accuracy.reset_states()\n",
    "        valid_loss.reset_states()\n",
    "        train_loss.reset_states()\n",
    "        if epoch >= EPOCHS:\n",
    "            break\n",
    "\n",
    "optimized_ctl_training_time = time.time() - start_time\n",
    "print(\"OPTIMIZED CTL TRAINING TIME: {:0.1f}s\".format(optimized_ctl_training_time))"
   ]
  },
  {
   "cell_type": "code",
   "execution_count": null,
   "metadata": {
    "papermill": {
     "duration": 0.167582,
     "end_time": "2021-02-22T15:59:38.234550",
     "exception": false,
     "start_time": "2021-02-22T15:59:38.066968",
     "status": "completed"
    },
    "tags": []
   },
   "outputs": [],
   "source": []
  },
  {
   "cell_type": "code",
   "execution_count": null,
   "metadata": {
    "papermill": {
     "duration": 0.17208,
     "end_time": "2021-02-22T15:59:38.575783",
     "exception": false,
     "start_time": "2021-02-22T15:59:38.403703",
     "status": "completed"
    },
    "tags": []
   },
   "outputs": [],
   "source": []
  },
  {
   "cell_type": "code",
   "execution_count": null,
   "metadata": {
    "papermill": {
     "duration": 0.166912,
     "end_time": "2021-02-22T15:59:38.913204",
     "exception": false,
     "start_time": "2021-02-22T15:59:38.746292",
     "status": "completed"
    },
    "tags": []
   },
   "outputs": [],
   "source": []
  },
  {
   "cell_type": "code",
   "execution_count": null,
   "metadata": {
    "papermill": {
     "duration": 0.165493,
     "end_time": "2021-02-22T15:59:39.245628",
     "exception": false,
     "start_time": "2021-02-22T15:59:39.080135",
     "status": "completed"
    },
    "tags": []
   },
   "outputs": [],
   "source": []
  },
  {
   "cell_type": "markdown",
   "metadata": {
    "papermill": {
     "duration": 0.166311,
     "end_time": "2021-02-22T15:59:39.579550",
     "exception": false,
     "start_time": "2021-02-22T15:59:39.413239",
     "status": "completed"
    },
    "tags": []
   },
   "source": [
    "### Generating the confusion matrix"
   ]
  },
  {
   "cell_type": "code",
   "execution_count": 31,
   "metadata": {
    "execution": {
     "iopub.execute_input": "2021-02-22T15:59:39.916758Z",
     "iopub.status.busy": "2021-02-22T15:59:39.916058Z",
     "iopub.status.idle": "2021-02-22T15:59:52.665808Z",
     "shell.execute_reply": "2021-02-22T15:59:52.665271Z"
    },
    "papermill": {
     "duration": 12.919469,
     "end_time": "2021-02-22T15:59:52.665957",
     "exception": false,
     "start_time": "2021-02-22T15:59:39.746488",
     "status": "completed"
    },
    "tags": []
   },
   "outputs": [
    {
     "ename": "TypeError",
     "evalue": "data type not ordered",
     "output_type": "error",
     "traceback": [
      "\u001b[0;31m---------------------------------------------------------------------------\u001b[0m",
      "\u001b[0;31mTypeError\u001b[0m                                 Traceback (most recent call last)",
      "\u001b[0;32m/opt/conda/lib/python3.7/site-packages/numpy/core/fromnumeric.py\u001b[0m in \u001b[0;36m_wrapfunc\u001b[0;34m(obj, method, *args, **kwds)\u001b[0m\n\u001b[1;32m     57\u001b[0m     \u001b[0;32mtry\u001b[0m\u001b[0;34m:\u001b[0m\u001b[0;34m\u001b[0m\u001b[0;34m\u001b[0m\u001b[0m\n\u001b[0;32m---> 58\u001b[0;31m         \u001b[0;32mreturn\u001b[0m \u001b[0mbound\u001b[0m\u001b[0;34m(\u001b[0m\u001b[0;34m*\u001b[0m\u001b[0margs\u001b[0m\u001b[0;34m,\u001b[0m \u001b[0;34m**\u001b[0m\u001b[0mkwds\u001b[0m\u001b[0;34m)\u001b[0m\u001b[0;34m\u001b[0m\u001b[0;34m\u001b[0m\u001b[0m\n\u001b[0m\u001b[1;32m     59\u001b[0m     \u001b[0;32mexcept\u001b[0m \u001b[0mTypeError\u001b[0m\u001b[0;34m:\u001b[0m\u001b[0;34m\u001b[0m\u001b[0;34m\u001b[0m\u001b[0m\n",
      "\u001b[0;31mTypeError\u001b[0m: data type not ordered",
      "\nDuring handling of the above exception, another exception occurred:\n",
      "\u001b[0;31mTypeError\u001b[0m                                 Traceback (most recent call last)",
      "\u001b[0;32m<ipython-input-31-ac84810fbc9b>\u001b[0m in \u001b[0;36m<module>\u001b[0;34m\u001b[0m\n\u001b[1;32m      6\u001b[0m \u001b[0;34m\u001b[0m\u001b[0m\n\u001b[1;32m      7\u001b[0m \u001b[0mcm_probabilities\u001b[0m \u001b[0;34m=\u001b[0m \u001b[0mmodel\u001b[0m\u001b[0;34m.\u001b[0m\u001b[0mpredict\u001b[0m\u001b[0;34m(\u001b[0m\u001b[0mimages_ds\u001b[0m\u001b[0;34m,\u001b[0m \u001b[0msteps\u001b[0m \u001b[0;34m=\u001b[0m \u001b[0mVALIDATION_STEPS\u001b[0m\u001b[0;34m)\u001b[0m\u001b[0;34m\u001b[0m\u001b[0;34m\u001b[0m\u001b[0m\n\u001b[0;32m----> 8\u001b[0;31m \u001b[0mcm_predictions\u001b[0m \u001b[0;34m=\u001b[0m \u001b[0mnp\u001b[0m\u001b[0;34m.\u001b[0m\u001b[0margmax\u001b[0m\u001b[0;34m(\u001b[0m\u001b[0mcm_probabilities\u001b[0m\u001b[0;34m,\u001b[0m \u001b[0maxis\u001b[0m \u001b[0;34m=\u001b[0m \u001b[0;34m-\u001b[0m\u001b[0;36m1\u001b[0m\u001b[0;34m)\u001b[0m\u001b[0;34m\u001b[0m\u001b[0;34m\u001b[0m\u001b[0m\n\u001b[0m\u001b[1;32m      9\u001b[0m \u001b[0;34m\u001b[0m\u001b[0m\n\u001b[1;32m     10\u001b[0m \u001b[0mprint\u001b[0m\u001b[0;34m(\u001b[0m\u001b[0;34m\"Correct Labels : \"\u001b[0m\u001b[0;34m,\u001b[0m \u001b[0mcm_correct_labels\u001b[0m\u001b[0;34m.\u001b[0m\u001b[0mshape\u001b[0m\u001b[0;34m,\u001b[0m \u001b[0mcm_correct_labels\u001b[0m\u001b[0;34m)\u001b[0m\u001b[0;34m\u001b[0m\u001b[0;34m\u001b[0m\u001b[0m\n",
      "\u001b[0;32m<__array_function__ internals>\u001b[0m in \u001b[0;36margmax\u001b[0;34m(*args, **kwargs)\u001b[0m\n",
      "\u001b[0;32m/opt/conda/lib/python3.7/site-packages/numpy/core/fromnumeric.py\u001b[0m in \u001b[0;36margmax\u001b[0;34m(a, axis, out)\u001b[0m\n\u001b[1;32m   1186\u001b[0m \u001b[0;34m\u001b[0m\u001b[0m\n\u001b[1;32m   1187\u001b[0m     \"\"\"\n\u001b[0;32m-> 1188\u001b[0;31m     \u001b[0;32mreturn\u001b[0m \u001b[0m_wrapfunc\u001b[0m\u001b[0;34m(\u001b[0m\u001b[0ma\u001b[0m\u001b[0;34m,\u001b[0m \u001b[0;34m'argmax'\u001b[0m\u001b[0;34m,\u001b[0m \u001b[0maxis\u001b[0m\u001b[0;34m=\u001b[0m\u001b[0maxis\u001b[0m\u001b[0;34m,\u001b[0m \u001b[0mout\u001b[0m\u001b[0;34m=\u001b[0m\u001b[0mout\u001b[0m\u001b[0;34m)\u001b[0m\u001b[0;34m\u001b[0m\u001b[0;34m\u001b[0m\u001b[0m\n\u001b[0m\u001b[1;32m   1189\u001b[0m \u001b[0;34m\u001b[0m\u001b[0m\n\u001b[1;32m   1190\u001b[0m \u001b[0;34m\u001b[0m\u001b[0m\n",
      "\u001b[0;32m/opt/conda/lib/python3.7/site-packages/numpy/core/fromnumeric.py\u001b[0m in \u001b[0;36m_wrapfunc\u001b[0;34m(obj, method, *args, **kwds)\u001b[0m\n\u001b[1;32m     65\u001b[0m         \u001b[0;31m# Call _wrapit from within the except clause to ensure a potential\u001b[0m\u001b[0;34m\u001b[0m\u001b[0;34m\u001b[0m\u001b[0;34m\u001b[0m\u001b[0m\n\u001b[1;32m     66\u001b[0m         \u001b[0;31m# exception has a traceback chain.\u001b[0m\u001b[0;34m\u001b[0m\u001b[0;34m\u001b[0m\u001b[0;34m\u001b[0m\u001b[0m\n\u001b[0;32m---> 67\u001b[0;31m         \u001b[0;32mreturn\u001b[0m \u001b[0m_wrapit\u001b[0m\u001b[0;34m(\u001b[0m\u001b[0mobj\u001b[0m\u001b[0;34m,\u001b[0m \u001b[0mmethod\u001b[0m\u001b[0;34m,\u001b[0m \u001b[0;34m*\u001b[0m\u001b[0margs\u001b[0m\u001b[0;34m,\u001b[0m \u001b[0;34m**\u001b[0m\u001b[0mkwds\u001b[0m\u001b[0;34m)\u001b[0m\u001b[0;34m\u001b[0m\u001b[0;34m\u001b[0m\u001b[0m\n\u001b[0m\u001b[1;32m     68\u001b[0m \u001b[0;34m\u001b[0m\u001b[0m\n\u001b[1;32m     69\u001b[0m \u001b[0;34m\u001b[0m\u001b[0m\n",
      "\u001b[0;32m/opt/conda/lib/python3.7/site-packages/numpy/core/fromnumeric.py\u001b[0m in \u001b[0;36m_wrapit\u001b[0;34m(obj, method, *args, **kwds)\u001b[0m\n\u001b[1;32m     42\u001b[0m     \u001b[0;32mexcept\u001b[0m \u001b[0mAttributeError\u001b[0m\u001b[0;34m:\u001b[0m\u001b[0;34m\u001b[0m\u001b[0;34m\u001b[0m\u001b[0m\n\u001b[1;32m     43\u001b[0m         \u001b[0mwrap\u001b[0m \u001b[0;34m=\u001b[0m \u001b[0;32mNone\u001b[0m\u001b[0;34m\u001b[0m\u001b[0;34m\u001b[0m\u001b[0m\n\u001b[0;32m---> 44\u001b[0;31m     \u001b[0mresult\u001b[0m \u001b[0;34m=\u001b[0m \u001b[0mgetattr\u001b[0m\u001b[0;34m(\u001b[0m\u001b[0masarray\u001b[0m\u001b[0;34m(\u001b[0m\u001b[0mobj\u001b[0m\u001b[0;34m)\u001b[0m\u001b[0;34m,\u001b[0m \u001b[0mmethod\u001b[0m\u001b[0;34m)\u001b[0m\u001b[0;34m(\u001b[0m\u001b[0;34m*\u001b[0m\u001b[0margs\u001b[0m\u001b[0;34m,\u001b[0m \u001b[0;34m**\u001b[0m\u001b[0mkwds\u001b[0m\u001b[0;34m)\u001b[0m\u001b[0;34m\u001b[0m\u001b[0;34m\u001b[0m\u001b[0m\n\u001b[0m\u001b[1;32m     45\u001b[0m     \u001b[0;32mif\u001b[0m \u001b[0mwrap\u001b[0m\u001b[0;34m:\u001b[0m\u001b[0;34m\u001b[0m\u001b[0;34m\u001b[0m\u001b[0m\n\u001b[1;32m     46\u001b[0m         \u001b[0;32mif\u001b[0m \u001b[0;32mnot\u001b[0m \u001b[0misinstance\u001b[0m\u001b[0;34m(\u001b[0m\u001b[0mresult\u001b[0m\u001b[0;34m,\u001b[0m \u001b[0mmu\u001b[0m\u001b[0;34m.\u001b[0m\u001b[0mndarray\u001b[0m\u001b[0;34m)\u001b[0m\u001b[0;34m:\u001b[0m\u001b[0;34m\u001b[0m\u001b[0;34m\u001b[0m\u001b[0m\n",
      "\u001b[0;31mTypeError\u001b[0m: data type not ordered"
     ]
    }
   ],
   "source": [
    "cmdataset = get_validation_dataset(ordered = True)\n",
    "images_ds = cmdataset.map(lambda image, label : image)\n",
    "labels_ds = cmdataset.map(lambda image, label : label).unbatch()\n",
    "\n",
    "cm_correct_labels = next(iter(labels_ds.batch(NUM_VALIDATION_IMAGES))).numpy()\n",
    "\n",
    "cm_probabilities = model.predict(images_ds, steps = VALIDATION_STEPS)\n",
    "cm_predictions = np.argmax(cm_probabilities, axis = -1)\n",
    "\n",
    "print(\"Correct Labels : \", cm_correct_labels.shape, cm_correct_labels)\n",
    "print(\"Predicted Labels: \", cm_predictions.shape, cm_predictions)"
   ]
  },
  {
   "cell_type": "code",
   "execution_count": null,
   "metadata": {
    "papermill": {
     "duration": 0.167673,
     "end_time": "2021-02-22T15:59:53.001745",
     "exception": false,
     "start_time": "2021-02-22T15:59:52.834072",
     "status": "completed"
    },
    "tags": []
   },
   "outputs": [],
   "source": []
  },
  {
   "cell_type": "code",
   "execution_count": 32,
   "metadata": {
    "execution": {
     "iopub.execute_input": "2021-02-22T15:59:53.350411Z",
     "iopub.status.busy": "2021-02-22T15:59:53.349393Z",
     "iopub.status.idle": "2021-02-22T16:00:08.165982Z",
     "shell.execute_reply": "2021-02-22T16:00:08.166564Z"
    },
    "papermill": {
     "duration": 14.997477,
     "end_time": "2021-02-22T16:00:08.166754",
     "exception": false,
     "start_time": "2021-02-22T15:59:53.169277",
     "status": "completed"
    },
    "tags": []
   },
   "outputs": [
    {
     "name": "stdout",
     "output_type": "stream",
     "text": [
      "Computing predictions...\n"
     ]
    },
    {
     "ename": "TypeError",
     "evalue": "data type not ordered",
     "output_type": "error",
     "traceback": [
      "\u001b[0;31m---------------------------------------------------------------------------\u001b[0m",
      "\u001b[0;31mTypeError\u001b[0m                                 Traceback (most recent call last)",
      "\u001b[0;32m/opt/conda/lib/python3.7/site-packages/numpy/core/fromnumeric.py\u001b[0m in \u001b[0;36m_wrapfunc\u001b[0;34m(obj, method, *args, **kwds)\u001b[0m\n\u001b[1;32m     57\u001b[0m     \u001b[0;32mtry\u001b[0m\u001b[0;34m:\u001b[0m\u001b[0;34m\u001b[0m\u001b[0;34m\u001b[0m\u001b[0m\n\u001b[0;32m---> 58\u001b[0;31m         \u001b[0;32mreturn\u001b[0m \u001b[0mbound\u001b[0m\u001b[0;34m(\u001b[0m\u001b[0;34m*\u001b[0m\u001b[0margs\u001b[0m\u001b[0;34m,\u001b[0m \u001b[0;34m**\u001b[0m\u001b[0mkwds\u001b[0m\u001b[0;34m)\u001b[0m\u001b[0;34m\u001b[0m\u001b[0;34m\u001b[0m\u001b[0m\n\u001b[0m\u001b[1;32m     59\u001b[0m     \u001b[0;32mexcept\u001b[0m \u001b[0mTypeError\u001b[0m\u001b[0;34m:\u001b[0m\u001b[0;34m\u001b[0m\u001b[0;34m\u001b[0m\u001b[0m\n",
      "\u001b[0;31mTypeError\u001b[0m: data type not ordered",
      "\nDuring handling of the above exception, another exception occurred:\n",
      "\u001b[0;31mTypeError\u001b[0m                                 Traceback (most recent call last)",
      "\u001b[0;32m<ipython-input-32-5f9bb6d69f47>\u001b[0m in \u001b[0;36m<module>\u001b[0;34m\u001b[0m\n\u001b[1;32m      5\u001b[0m \u001b[0mtest_images_ds\u001b[0m \u001b[0;34m=\u001b[0m \u001b[0mtest_ds\u001b[0m\u001b[0;34m.\u001b[0m\u001b[0mmap\u001b[0m\u001b[0;34m(\u001b[0m\u001b[0;32mlambda\u001b[0m \u001b[0mimage\u001b[0m\u001b[0;34m,\u001b[0m \u001b[0midnum\u001b[0m \u001b[0;34m:\u001b[0m \u001b[0mimage\u001b[0m\u001b[0;34m)\u001b[0m\u001b[0;34m\u001b[0m\u001b[0;34m\u001b[0m\u001b[0m\n\u001b[1;32m      6\u001b[0m \u001b[0mprobabilities\u001b[0m \u001b[0;34m=\u001b[0m \u001b[0mmodel\u001b[0m\u001b[0;34m.\u001b[0m\u001b[0mpredict\u001b[0m\u001b[0;34m(\u001b[0m\u001b[0mtest_images_ds\u001b[0m\u001b[0;34m,\u001b[0m \u001b[0msteps\u001b[0m \u001b[0;34m=\u001b[0m \u001b[0mTEST_STEPS\u001b[0m\u001b[0;34m)\u001b[0m\u001b[0;34m\u001b[0m\u001b[0;34m\u001b[0m\u001b[0m\n\u001b[0;32m----> 7\u001b[0;31m \u001b[0mpredictions\u001b[0m \u001b[0;34m=\u001b[0m \u001b[0mnp\u001b[0m\u001b[0;34m.\u001b[0m\u001b[0margmax\u001b[0m\u001b[0;34m(\u001b[0m\u001b[0mprobabilities\u001b[0m\u001b[0;34m,\u001b[0m \u001b[0maxis\u001b[0m \u001b[0;34m=\u001b[0m \u001b[0;34m-\u001b[0m\u001b[0;36m1\u001b[0m\u001b[0;34m)\u001b[0m\u001b[0;34m\u001b[0m\u001b[0;34m\u001b[0m\u001b[0m\n\u001b[0m\u001b[1;32m      8\u001b[0m \u001b[0mprint\u001b[0m\u001b[0;34m(\u001b[0m\u001b[0mpredictions\u001b[0m\u001b[0;34m)\u001b[0m\u001b[0;34m\u001b[0m\u001b[0;34m\u001b[0m\u001b[0m\n\u001b[1;32m      9\u001b[0m \u001b[0;34m\u001b[0m\u001b[0m\n",
      "\u001b[0;32m<__array_function__ internals>\u001b[0m in \u001b[0;36margmax\u001b[0;34m(*args, **kwargs)\u001b[0m\n",
      "\u001b[0;32m/opt/conda/lib/python3.7/site-packages/numpy/core/fromnumeric.py\u001b[0m in \u001b[0;36margmax\u001b[0;34m(a, axis, out)\u001b[0m\n\u001b[1;32m   1186\u001b[0m \u001b[0;34m\u001b[0m\u001b[0m\n\u001b[1;32m   1187\u001b[0m     \"\"\"\n\u001b[0;32m-> 1188\u001b[0;31m     \u001b[0;32mreturn\u001b[0m \u001b[0m_wrapfunc\u001b[0m\u001b[0;34m(\u001b[0m\u001b[0ma\u001b[0m\u001b[0;34m,\u001b[0m \u001b[0;34m'argmax'\u001b[0m\u001b[0;34m,\u001b[0m \u001b[0maxis\u001b[0m\u001b[0;34m=\u001b[0m\u001b[0maxis\u001b[0m\u001b[0;34m,\u001b[0m \u001b[0mout\u001b[0m\u001b[0;34m=\u001b[0m\u001b[0mout\u001b[0m\u001b[0;34m)\u001b[0m\u001b[0;34m\u001b[0m\u001b[0;34m\u001b[0m\u001b[0m\n\u001b[0m\u001b[1;32m   1189\u001b[0m \u001b[0;34m\u001b[0m\u001b[0m\n\u001b[1;32m   1190\u001b[0m \u001b[0;34m\u001b[0m\u001b[0m\n",
      "\u001b[0;32m/opt/conda/lib/python3.7/site-packages/numpy/core/fromnumeric.py\u001b[0m in \u001b[0;36m_wrapfunc\u001b[0;34m(obj, method, *args, **kwds)\u001b[0m\n\u001b[1;32m     65\u001b[0m         \u001b[0;31m# Call _wrapit from within the except clause to ensure a potential\u001b[0m\u001b[0;34m\u001b[0m\u001b[0;34m\u001b[0m\u001b[0;34m\u001b[0m\u001b[0m\n\u001b[1;32m     66\u001b[0m         \u001b[0;31m# exception has a traceback chain.\u001b[0m\u001b[0;34m\u001b[0m\u001b[0;34m\u001b[0m\u001b[0;34m\u001b[0m\u001b[0m\n\u001b[0;32m---> 67\u001b[0;31m         \u001b[0;32mreturn\u001b[0m \u001b[0m_wrapit\u001b[0m\u001b[0;34m(\u001b[0m\u001b[0mobj\u001b[0m\u001b[0;34m,\u001b[0m \u001b[0mmethod\u001b[0m\u001b[0;34m,\u001b[0m \u001b[0;34m*\u001b[0m\u001b[0margs\u001b[0m\u001b[0;34m,\u001b[0m \u001b[0;34m**\u001b[0m\u001b[0mkwds\u001b[0m\u001b[0;34m)\u001b[0m\u001b[0;34m\u001b[0m\u001b[0;34m\u001b[0m\u001b[0m\n\u001b[0m\u001b[1;32m     68\u001b[0m \u001b[0;34m\u001b[0m\u001b[0m\n\u001b[1;32m     69\u001b[0m \u001b[0;34m\u001b[0m\u001b[0m\n",
      "\u001b[0;32m/opt/conda/lib/python3.7/site-packages/numpy/core/fromnumeric.py\u001b[0m in \u001b[0;36m_wrapit\u001b[0;34m(obj, method, *args, **kwds)\u001b[0m\n\u001b[1;32m     42\u001b[0m     \u001b[0;32mexcept\u001b[0m \u001b[0mAttributeError\u001b[0m\u001b[0;34m:\u001b[0m\u001b[0;34m\u001b[0m\u001b[0;34m\u001b[0m\u001b[0m\n\u001b[1;32m     43\u001b[0m         \u001b[0mwrap\u001b[0m \u001b[0;34m=\u001b[0m \u001b[0;32mNone\u001b[0m\u001b[0;34m\u001b[0m\u001b[0;34m\u001b[0m\u001b[0m\n\u001b[0;32m---> 44\u001b[0;31m     \u001b[0mresult\u001b[0m \u001b[0;34m=\u001b[0m \u001b[0mgetattr\u001b[0m\u001b[0;34m(\u001b[0m\u001b[0masarray\u001b[0m\u001b[0;34m(\u001b[0m\u001b[0mobj\u001b[0m\u001b[0;34m)\u001b[0m\u001b[0;34m,\u001b[0m \u001b[0mmethod\u001b[0m\u001b[0;34m)\u001b[0m\u001b[0;34m(\u001b[0m\u001b[0;34m*\u001b[0m\u001b[0margs\u001b[0m\u001b[0;34m,\u001b[0m \u001b[0;34m**\u001b[0m\u001b[0mkwds\u001b[0m\u001b[0;34m)\u001b[0m\u001b[0;34m\u001b[0m\u001b[0;34m\u001b[0m\u001b[0m\n\u001b[0m\u001b[1;32m     45\u001b[0m     \u001b[0;32mif\u001b[0m \u001b[0mwrap\u001b[0m\u001b[0;34m:\u001b[0m\u001b[0;34m\u001b[0m\u001b[0;34m\u001b[0m\u001b[0m\n\u001b[1;32m     46\u001b[0m         \u001b[0;32mif\u001b[0m \u001b[0;32mnot\u001b[0m \u001b[0misinstance\u001b[0m\u001b[0;34m(\u001b[0m\u001b[0mresult\u001b[0m\u001b[0;34m,\u001b[0m \u001b[0mmu\u001b[0m\u001b[0;34m.\u001b[0m\u001b[0mndarray\u001b[0m\u001b[0;34m)\u001b[0m\u001b[0;34m:\u001b[0m\u001b[0;34m\u001b[0m\u001b[0;34m\u001b[0m\u001b[0m\n",
      "\u001b[0;31mTypeError\u001b[0m: data type not ordered"
     ]
    }
   ],
   "source": [
    "test_ds = get_test_dataset(ordered = True)\n",
    "\n",
    "print(\"Computing predictions...\")\n",
    "\n",
    "test_images_ds = test_ds.map(lambda image, idnum : image)\n",
    "probabilities = model.predict(test_images_ds, steps = TEST_STEPS)\n",
    "predictions = np.argmax(probabilities, axis = -1)\n",
    "print(predictions)\n",
    "\n",
    "\n",
    "print(\"generating submission file\")\n",
    "test_ids_ds = test_ds.map(lambda image, idnum : idnum).unbatch()\n",
    "\n",
    "test_ids = next(iter(test_ids_ds.batch(NUM_TEST_IMAGES))).numpy().astype('U')\n",
    "\n",
    "np.savetxt(\"submission.csv\", np.rec.fromarrays([test_ids, predictions]), fmt = ['%s', '%d'], delimiter = ',', header = 'id,label', comments = '')\n",
    "!head submission.csv"
   ]
  },
  {
   "cell_type": "code",
   "execution_count": null,
   "metadata": {
    "papermill": {
     "duration": 0.168257,
     "end_time": "2021-02-22T16:00:08.501328",
     "exception": false,
     "start_time": "2021-02-22T16:00:08.333071",
     "status": "completed"
    },
    "tags": []
   },
   "outputs": [],
   "source": []
  },
  {
   "cell_type": "markdown",
   "metadata": {
    "papermill": {
     "duration": 0.199986,
     "end_time": "2021-02-22T16:00:08.876665",
     "exception": false,
     "start_time": "2021-02-22T16:00:08.676679",
     "status": "completed"
    },
    "tags": []
   },
   "source": [
    "### Notebook in making"
   ]
  },
  {
   "cell_type": "markdown",
   "metadata": {
    "papermill": {
     "duration": 0.167295,
     "end_time": "2021-02-22T16:00:09.211365",
     "exception": false,
     "start_time": "2021-02-22T16:00:09.044070",
     "status": "completed"
    },
    "tags": []
   },
   "source": [
    "##### Additions to be made -> \n",
    "          1) Mixed Precision + XLA training\n",
    "          2) Custom Training loop for faster training."
   ]
  },
  {
   "cell_type": "code",
   "execution_count": null,
   "metadata": {
    "papermill": {
     "duration": 0.168214,
     "end_time": "2021-02-22T16:00:09.548668",
     "exception": false,
     "start_time": "2021-02-22T16:00:09.380454",
     "status": "completed"
    },
    "tags": []
   },
   "outputs": [],
   "source": []
  }
 ],
 "metadata": {
  "kernelspec": {
   "display_name": "Python 3",
   "language": "python",
   "name": "python3"
  },
  "language_info": {
   "codemirror_mode": {
    "name": "ipython",
    "version": 3
   },
   "file_extension": ".py",
   "mimetype": "text/x-python",
   "name": "python",
   "nbconvert_exporter": "python",
   "pygments_lexer": "ipython3",
   "version": "3.7.9"
  },
  "papermill": {
   "default_parameters": {},
   "duration": 1544.502943,
   "end_time": "2021-02-22T16:00:15.772847",
   "environment_variables": {},
   "exception": null,
   "input_path": "__notebook__.ipynb",
   "output_path": "__notebook__.ipynb",
   "parameters": {},
   "start_time": "2021-02-22T15:34:31.269904",
   "version": "2.2.2"
  }
 },
 "nbformat": 4,
 "nbformat_minor": 4
}
